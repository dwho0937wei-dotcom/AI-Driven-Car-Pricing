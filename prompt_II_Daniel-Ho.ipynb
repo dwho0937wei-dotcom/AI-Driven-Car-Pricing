{
 "cells": [
  {
   "cell_type": "markdown",
   "metadata": {},
   "source": [
    "# What drives the price of a car?\n",
    "\n",
    "![](images/kurt.jpeg)"
   ]
  },
  {
   "cell_type": "markdown",
   "metadata": {},
   "source": [
    "**OVERVIEW**\n",
    "\n",
    "In this application, you will explore a dataset from kaggle. The original dataset contained information on 3 million used cars. The provided dataset contains information on 426K cars to ensure speed of processing.  Your goal is to understand what factors make a car more or less expensive.  As a result of your analysis, you should provide clear recommendations to your client -- a used car dealership -- as to what consumers value in a used car."
   ]
  },
  {
   "cell_type": "markdown",
   "metadata": {},
   "source": [
    "### CRISP-DM Framework\n",
    "\n",
    "<center>\n",
    "    <img src = images/crisp.png width = 50%/>\n",
    "</center>\n",
    "\n",
    "\n",
    "To frame the task, throughout our practical applications we will refer back to a standard process in industry for data projects called CRISP-DM.  This process provides a framework for working through a data problem.  Your first step in this application will be to read through a brief overview of CRISP-DM [here](https://mo-pcco.s3.us-east-1.amazonaws.com/BH-PCMLAI/module_11/readings_starter.zip).  After reading the overview, answer the questions below."
   ]
  },
  {
   "cell_type": "code",
   "execution_count": 1,
   "metadata": {},
   "outputs": [],
   "source": [
    "import pandas as pd\n",
    "import numpy as np\n",
    "import matplotlib.pyplot as plt\n",
    "\n",
    "from sklearn.linear_model import LinearRegression\n",
    "from sklearn.pipeline import Pipeline\n",
    "from sklearn.preprocessing import PolynomialFeatures, OneHotEncoder, OrdinalEncoder\n",
    "from sklearn.metrics import mean_squared_error, mean_absolute_error\n",
    "from sklearn.model_selection import train_test_split\n",
    "from sklearn.compose import make_column_transformer, make_column_selector\n",
    "\n",
    "from sklearn import set_config\n",
    "\n",
    "set_config(display=\"diagram\") #setting this will display your pipelines as seen above"
   ]
  },
  {
   "cell_type": "markdown",
   "metadata": {},
   "source": [
    "### Business Understanding\n",
    "\n",
    "From a business perspective, we are tasked with identifying key drivers for used car prices.  In the CRISP-DM overview, we are asked to convert this business framing to a data problem definition.  Using a few sentences, reframe the task as a data task with the appropriate technical vocabulary. "
   ]
  },
  {
   "cell_type": "code",
   "execution_count": 2,
   "metadata": {},
   "outputs": [
    {
     "data": {
      "text/html": [
       "<div>\n",
       "<style scoped>\n",
       "    .dataframe tbody tr th:only-of-type {\n",
       "        vertical-align: middle;\n",
       "    }\n",
       "\n",
       "    .dataframe tbody tr th {\n",
       "        vertical-align: top;\n",
       "    }\n",
       "\n",
       "    .dataframe thead th {\n",
       "        text-align: right;\n",
       "    }\n",
       "</style>\n",
       "<table border=\"1\" class=\"dataframe\">\n",
       "  <thead>\n",
       "    <tr style=\"text-align: right;\">\n",
       "      <th></th>\n",
       "      <th>id</th>\n",
       "      <th>region</th>\n",
       "      <th>price</th>\n",
       "      <th>year</th>\n",
       "      <th>manufacturer</th>\n",
       "      <th>model</th>\n",
       "      <th>condition</th>\n",
       "      <th>cylinders</th>\n",
       "      <th>fuel</th>\n",
       "      <th>odometer</th>\n",
       "      <th>title_status</th>\n",
       "      <th>transmission</th>\n",
       "      <th>VIN</th>\n",
       "      <th>drive</th>\n",
       "      <th>size</th>\n",
       "      <th>type</th>\n",
       "      <th>paint_color</th>\n",
       "      <th>state</th>\n",
       "    </tr>\n",
       "  </thead>\n",
       "  <tbody>\n",
       "    <tr>\n",
       "      <th>0</th>\n",
       "      <td>7222695916</td>\n",
       "      <td>prescott</td>\n",
       "      <td>6000</td>\n",
       "      <td>NaN</td>\n",
       "      <td>NaN</td>\n",
       "      <td>NaN</td>\n",
       "      <td>NaN</td>\n",
       "      <td>NaN</td>\n",
       "      <td>NaN</td>\n",
       "      <td>NaN</td>\n",
       "      <td>NaN</td>\n",
       "      <td>NaN</td>\n",
       "      <td>NaN</td>\n",
       "      <td>NaN</td>\n",
       "      <td>NaN</td>\n",
       "      <td>NaN</td>\n",
       "      <td>NaN</td>\n",
       "      <td>az</td>\n",
       "    </tr>\n",
       "    <tr>\n",
       "      <th>1</th>\n",
       "      <td>7218891961</td>\n",
       "      <td>fayetteville</td>\n",
       "      <td>11900</td>\n",
       "      <td>NaN</td>\n",
       "      <td>NaN</td>\n",
       "      <td>NaN</td>\n",
       "      <td>NaN</td>\n",
       "      <td>NaN</td>\n",
       "      <td>NaN</td>\n",
       "      <td>NaN</td>\n",
       "      <td>NaN</td>\n",
       "      <td>NaN</td>\n",
       "      <td>NaN</td>\n",
       "      <td>NaN</td>\n",
       "      <td>NaN</td>\n",
       "      <td>NaN</td>\n",
       "      <td>NaN</td>\n",
       "      <td>ar</td>\n",
       "    </tr>\n",
       "    <tr>\n",
       "      <th>2</th>\n",
       "      <td>7221797935</td>\n",
       "      <td>florida keys</td>\n",
       "      <td>21000</td>\n",
       "      <td>NaN</td>\n",
       "      <td>NaN</td>\n",
       "      <td>NaN</td>\n",
       "      <td>NaN</td>\n",
       "      <td>NaN</td>\n",
       "      <td>NaN</td>\n",
       "      <td>NaN</td>\n",
       "      <td>NaN</td>\n",
       "      <td>NaN</td>\n",
       "      <td>NaN</td>\n",
       "      <td>NaN</td>\n",
       "      <td>NaN</td>\n",
       "      <td>NaN</td>\n",
       "      <td>NaN</td>\n",
       "      <td>fl</td>\n",
       "    </tr>\n",
       "    <tr>\n",
       "      <th>3</th>\n",
       "      <td>7222270760</td>\n",
       "      <td>worcester / central MA</td>\n",
       "      <td>1500</td>\n",
       "      <td>NaN</td>\n",
       "      <td>NaN</td>\n",
       "      <td>NaN</td>\n",
       "      <td>NaN</td>\n",
       "      <td>NaN</td>\n",
       "      <td>NaN</td>\n",
       "      <td>NaN</td>\n",
       "      <td>NaN</td>\n",
       "      <td>NaN</td>\n",
       "      <td>NaN</td>\n",
       "      <td>NaN</td>\n",
       "      <td>NaN</td>\n",
       "      <td>NaN</td>\n",
       "      <td>NaN</td>\n",
       "      <td>ma</td>\n",
       "    </tr>\n",
       "    <tr>\n",
       "      <th>4</th>\n",
       "      <td>7210384030</td>\n",
       "      <td>greensboro</td>\n",
       "      <td>4900</td>\n",
       "      <td>NaN</td>\n",
       "      <td>NaN</td>\n",
       "      <td>NaN</td>\n",
       "      <td>NaN</td>\n",
       "      <td>NaN</td>\n",
       "      <td>NaN</td>\n",
       "      <td>NaN</td>\n",
       "      <td>NaN</td>\n",
       "      <td>NaN</td>\n",
       "      <td>NaN</td>\n",
       "      <td>NaN</td>\n",
       "      <td>NaN</td>\n",
       "      <td>NaN</td>\n",
       "      <td>NaN</td>\n",
       "      <td>nc</td>\n",
       "    </tr>\n",
       "  </tbody>\n",
       "</table>\n",
       "</div>"
      ],
      "text/plain": [
       "           id                  region  price  year manufacturer model  \\\n",
       "0  7222695916                prescott   6000   NaN          NaN   NaN   \n",
       "1  7218891961            fayetteville  11900   NaN          NaN   NaN   \n",
       "2  7221797935            florida keys  21000   NaN          NaN   NaN   \n",
       "3  7222270760  worcester / central MA   1500   NaN          NaN   NaN   \n",
       "4  7210384030              greensboro   4900   NaN          NaN   NaN   \n",
       "\n",
       "  condition cylinders fuel  odometer title_status transmission  VIN drive  \\\n",
       "0       NaN       NaN  NaN       NaN          NaN          NaN  NaN   NaN   \n",
       "1       NaN       NaN  NaN       NaN          NaN          NaN  NaN   NaN   \n",
       "2       NaN       NaN  NaN       NaN          NaN          NaN  NaN   NaN   \n",
       "3       NaN       NaN  NaN       NaN          NaN          NaN  NaN   NaN   \n",
       "4       NaN       NaN  NaN       NaN          NaN          NaN  NaN   NaN   \n",
       "\n",
       "  size type paint_color state  \n",
       "0  NaN  NaN         NaN    az  \n",
       "1  NaN  NaN         NaN    ar  \n",
       "2  NaN  NaN         NaN    fl  \n",
       "3  NaN  NaN         NaN    ma  \n",
       "4  NaN  NaN         NaN    nc  "
      ]
     },
     "execution_count": 2,
     "metadata": {},
     "output_type": "execute_result"
    }
   ],
   "source": [
    "# To understand our project objectives/requirements from a business perspective,\n",
    "# we need to first take a look at the dataset.\n",
    "filename = 'data/vehicles.csv'\n",
    "df = pd.read_csv(filename)\n",
    "df.head(5)"
   ]
  },
  {
   "cell_type": "code",
   "execution_count": 3,
   "metadata": {},
   "outputs": [],
   "source": [
    "# According to the overview, our mission is to find and understand factors \n",
    "# that would make a car more or less expensive.\n",
    "# This means that all columns can be potential factors contributing to our targeted column 'price'.\n",
    "# We need to find which columns would make the column 'price' increase and which would make it decrease."
   ]
  },
  {
   "cell_type": "markdown",
   "metadata": {},
   "source": [
    "### Data Understanding\n",
    "\n",
    "After considering the business understanding, we want to get familiar with our data.  Write down some steps that you would take to get to know the dataset and identify any quality issues within.  Take time to get to know the dataset and explore what information it contains and how this could be used to inform your business understanding."
   ]
  },
  {
   "cell_type": "code",
   "execution_count": 4,
   "metadata": {},
   "outputs": [
    {
     "data": {
      "text/html": [
       "<div>\n",
       "<style scoped>\n",
       "    .dataframe tbody tr th:only-of-type {\n",
       "        vertical-align: middle;\n",
       "    }\n",
       "\n",
       "    .dataframe tbody tr th {\n",
       "        vertical-align: top;\n",
       "    }\n",
       "\n",
       "    .dataframe thead th {\n",
       "        text-align: right;\n",
       "    }\n",
       "</style>\n",
       "<table border=\"1\" class=\"dataframe\">\n",
       "  <thead>\n",
       "    <tr style=\"text-align: right;\">\n",
       "      <th></th>\n",
       "      <th>id</th>\n",
       "      <th>region</th>\n",
       "      <th>price</th>\n",
       "      <th>year</th>\n",
       "      <th>manufacturer</th>\n",
       "      <th>model</th>\n",
       "      <th>condition</th>\n",
       "      <th>cylinders</th>\n",
       "      <th>fuel</th>\n",
       "      <th>odometer</th>\n",
       "      <th>title_status</th>\n",
       "      <th>transmission</th>\n",
       "      <th>VIN</th>\n",
       "      <th>drive</th>\n",
       "      <th>size</th>\n",
       "      <th>type</th>\n",
       "      <th>paint_color</th>\n",
       "      <th>state</th>\n",
       "    </tr>\n",
       "  </thead>\n",
       "  <tbody>\n",
       "    <tr>\n",
       "      <th>0</th>\n",
       "      <td>7222695916</td>\n",
       "      <td>prescott</td>\n",
       "      <td>6000</td>\n",
       "      <td>NaN</td>\n",
       "      <td>NaN</td>\n",
       "      <td>NaN</td>\n",
       "      <td>NaN</td>\n",
       "      <td>NaN</td>\n",
       "      <td>NaN</td>\n",
       "      <td>NaN</td>\n",
       "      <td>NaN</td>\n",
       "      <td>NaN</td>\n",
       "      <td>NaN</td>\n",
       "      <td>NaN</td>\n",
       "      <td>NaN</td>\n",
       "      <td>NaN</td>\n",
       "      <td>NaN</td>\n",
       "      <td>az</td>\n",
       "    </tr>\n",
       "    <tr>\n",
       "      <th>1</th>\n",
       "      <td>7218891961</td>\n",
       "      <td>fayetteville</td>\n",
       "      <td>11900</td>\n",
       "      <td>NaN</td>\n",
       "      <td>NaN</td>\n",
       "      <td>NaN</td>\n",
       "      <td>NaN</td>\n",
       "      <td>NaN</td>\n",
       "      <td>NaN</td>\n",
       "      <td>NaN</td>\n",
       "      <td>NaN</td>\n",
       "      <td>NaN</td>\n",
       "      <td>NaN</td>\n",
       "      <td>NaN</td>\n",
       "      <td>NaN</td>\n",
       "      <td>NaN</td>\n",
       "      <td>NaN</td>\n",
       "      <td>ar</td>\n",
       "    </tr>\n",
       "    <tr>\n",
       "      <th>2</th>\n",
       "      <td>7221797935</td>\n",
       "      <td>florida keys</td>\n",
       "      <td>21000</td>\n",
       "      <td>NaN</td>\n",
       "      <td>NaN</td>\n",
       "      <td>NaN</td>\n",
       "      <td>NaN</td>\n",
       "      <td>NaN</td>\n",
       "      <td>NaN</td>\n",
       "      <td>NaN</td>\n",
       "      <td>NaN</td>\n",
       "      <td>NaN</td>\n",
       "      <td>NaN</td>\n",
       "      <td>NaN</td>\n",
       "      <td>NaN</td>\n",
       "      <td>NaN</td>\n",
       "      <td>NaN</td>\n",
       "      <td>fl</td>\n",
       "    </tr>\n",
       "    <tr>\n",
       "      <th>3</th>\n",
       "      <td>7222270760</td>\n",
       "      <td>worcester / central MA</td>\n",
       "      <td>1500</td>\n",
       "      <td>NaN</td>\n",
       "      <td>NaN</td>\n",
       "      <td>NaN</td>\n",
       "      <td>NaN</td>\n",
       "      <td>NaN</td>\n",
       "      <td>NaN</td>\n",
       "      <td>NaN</td>\n",
       "      <td>NaN</td>\n",
       "      <td>NaN</td>\n",
       "      <td>NaN</td>\n",
       "      <td>NaN</td>\n",
       "      <td>NaN</td>\n",
       "      <td>NaN</td>\n",
       "      <td>NaN</td>\n",
       "      <td>ma</td>\n",
       "    </tr>\n",
       "    <tr>\n",
       "      <th>4</th>\n",
       "      <td>7210384030</td>\n",
       "      <td>greensboro</td>\n",
       "      <td>4900</td>\n",
       "      <td>NaN</td>\n",
       "      <td>NaN</td>\n",
       "      <td>NaN</td>\n",
       "      <td>NaN</td>\n",
       "      <td>NaN</td>\n",
       "      <td>NaN</td>\n",
       "      <td>NaN</td>\n",
       "      <td>NaN</td>\n",
       "      <td>NaN</td>\n",
       "      <td>NaN</td>\n",
       "      <td>NaN</td>\n",
       "      <td>NaN</td>\n",
       "      <td>NaN</td>\n",
       "      <td>NaN</td>\n",
       "      <td>nc</td>\n",
       "    </tr>\n",
       "  </tbody>\n",
       "</table>\n",
       "</div>"
      ],
      "text/plain": [
       "           id                  region  price  year manufacturer model  \\\n",
       "0  7222695916                prescott   6000   NaN          NaN   NaN   \n",
       "1  7218891961            fayetteville  11900   NaN          NaN   NaN   \n",
       "2  7221797935            florida keys  21000   NaN          NaN   NaN   \n",
       "3  7222270760  worcester / central MA   1500   NaN          NaN   NaN   \n",
       "4  7210384030              greensboro   4900   NaN          NaN   NaN   \n",
       "\n",
       "  condition cylinders fuel  odometer title_status transmission  VIN drive  \\\n",
       "0       NaN       NaN  NaN       NaN          NaN          NaN  NaN   NaN   \n",
       "1       NaN       NaN  NaN       NaN          NaN          NaN  NaN   NaN   \n",
       "2       NaN       NaN  NaN       NaN          NaN          NaN  NaN   NaN   \n",
       "3       NaN       NaN  NaN       NaN          NaN          NaN  NaN   NaN   \n",
       "4       NaN       NaN  NaN       NaN          NaN          NaN  NaN   NaN   \n",
       "\n",
       "  size type paint_color state  \n",
       "0  NaN  NaN         NaN    az  \n",
       "1  NaN  NaN         NaN    ar  \n",
       "2  NaN  NaN         NaN    fl  \n",
       "3  NaN  NaN         NaN    ma  \n",
       "4  NaN  NaN         NaN    nc  "
      ]
     },
     "execution_count": 4,
     "metadata": {},
     "output_type": "execute_result"
    }
   ],
   "source": [
    "df.head(5)"
   ]
  },
  {
   "cell_type": "code",
   "execution_count": 5,
   "metadata": {},
   "outputs": [
    {
     "data": {
      "text/plain": [
       "id                   0\n",
       "region               0\n",
       "price                0\n",
       "year              1205\n",
       "manufacturer     17646\n",
       "model             5277\n",
       "condition       174104\n",
       "cylinders       177678\n",
       "fuel              3013\n",
       "odometer          4400\n",
       "title_status      8242\n",
       "transmission      2556\n",
       "VIN             161042\n",
       "drive           130567\n",
       "size            306361\n",
       "type             92858\n",
       "paint_color     130203\n",
       "state                0\n",
       "dtype: int64"
      ]
     },
     "execution_count": 5,
     "metadata": {},
     "output_type": "execute_result"
    }
   ],
   "source": [
    "# The most noticeable part of this dataset is the numerous missing values.\n",
    "# Let's analyze the number of missing values in each column\n",
    "df.isnull().sum()"
   ]
  },
  {
   "cell_type": "code",
   "execution_count": 6,
   "metadata": {},
   "outputs": [
    {
     "data": {
      "text/plain": [
       "(426880, 18)"
      ]
     },
     "execution_count": 6,
     "metadata": {},
     "output_type": "execute_result"
    }
   ],
   "source": [
    "# Now let's compare it to the df's total amount of cars.\n",
    "df.shape"
   ]
  },
  {
   "cell_type": "code",
   "execution_count": 7,
   "metadata": {},
   "outputs": [],
   "source": [
    "# You can see that some columns have a significant amount of missing values\n",
    "# that if we decide to get rid of all missing values, we would lose a significant amount of data."
   ]
  },
  {
   "cell_type": "code",
   "execution_count": 8,
   "metadata": {},
   "outputs": [],
   "source": [
    "# By how this dataset was structured, I believe that each row represents an individual car.\n",
    "\n",
    "# Now let's identify what each column may represent by looking at its elements:"
   ]
  },
  {
   "cell_type": "code",
   "execution_count": 9,
   "metadata": {},
   "outputs": [
    {
     "data": {
      "text/plain": [
       "array([7222695916, 7218891961, 7221797935, ..., 7301591147, 7301591140,\n",
       "       7301591129], dtype=int64)"
      ]
     },
     "execution_count": 9,
     "metadata": {},
     "output_type": "execute_result"
    }
   ],
   "source": [
    "    # id - the label of the car\n",
    "    df.id.unique()"
   ]
  },
  {
   "cell_type": "code",
   "execution_count": 10,
   "metadata": {
    "scrolled": true
   },
   "outputs": [
    {
     "data": {
      "text/plain": [
       "array(['prescott', 'fayetteville', 'florida keys',\n",
       "       'worcester / central MA', 'greensboro', 'hudson valley',\n",
       "       'medford-ashland', 'erie', 'el paso', 'bellingham',\n",
       "       'skagit / island / SJI', 'la crosse', 'auburn', 'birmingham',\n",
       "       'dothan', 'florence / muscle shoals', 'gadsden-anniston',\n",
       "       'huntsville / decatur', 'mobile', 'montgomery', 'tuscaloosa',\n",
       "       'anchorage / mat-su', 'fairbanks', 'kenai peninsula',\n",
       "       'southeast alaska', 'flagstaff / sedona', 'mohave county',\n",
       "       'phoenix', 'show low', 'sierra vista', 'tucson', 'yuma',\n",
       "       'fort smith', 'jonesboro', 'little rock', 'texarkana',\n",
       "       'bakersfield', 'chico', 'fresno / madera', 'gold country',\n",
       "       'hanford-corcoran', 'humboldt county', 'imperial county',\n",
       "       'inland empire', 'los angeles', 'mendocino county', 'merced',\n",
       "       'modesto', 'monterey bay', 'orange county', 'palm springs',\n",
       "       'redding', 'reno / tahoe', 'sacramento', 'san diego',\n",
       "       'san luis obispo', 'santa barbara', 'santa maria', 'SF bay area',\n",
       "       'siskiyou county', 'stockton', 'susanville', 'ventura county',\n",
       "       'visalia-tulare', 'yuba-sutter', 'boulder', 'colorado springs',\n",
       "       'denver', 'eastern CO', 'fort collins / north CO', 'high rockies',\n",
       "       'pueblo', 'western slope', 'eastern CT', 'hartford', 'new haven',\n",
       "       'northwest CT', 'washington, DC', 'delaware', 'daytona beach',\n",
       "       'ft myers / SW florida', 'gainesville', 'heartland florida',\n",
       "       'jacksonville', 'lakeland', 'north central FL', 'ocala',\n",
       "       'okaloosa / walton', 'orlando', 'panama city', 'pensacola',\n",
       "       'sarasota-bradenton', 'south florida', 'space coast',\n",
       "       'st augustine', 'tallahassee', 'tampa bay area', 'treasure coast',\n",
       "       'albany', 'athens', 'atlanta', 'augusta', 'brunswick', 'columbus',\n",
       "       'macon / warner robins', 'northwest GA', 'savannah / hinesville',\n",
       "       'statesboro', 'valdosta', 'hawaii', 'boise', 'east idaho',\n",
       "       'lewiston / clarkston', 'pullman / moscow',\n",
       "       \"spokane / coeur d'alene\", 'twin falls', 'bloomington-normal',\n",
       "       'champaign urbana', 'chicago', 'decatur', 'la salle co',\n",
       "       'mattoon-charleston', 'peoria', 'quad cities, IA/IL', 'rockford',\n",
       "       'southern illinois', 'springfield', 'st louis, MO', 'western IL',\n",
       "       'bloomington', 'evansville', 'fort wayne', 'indianapolis',\n",
       "       'kokomo', 'lafayette / west lafayette', 'muncie / anderson',\n",
       "       'richmond', 'south bend / michiana', 'terre haute', 'ames',\n",
       "       'cedar rapids', 'des moines', 'dubuque', 'fort dodge', 'iowa city',\n",
       "       'mason city', 'omaha / council bluffs', 'sioux city',\n",
       "       'southeast IA', 'waterloo / cedar falls', 'kansas city, MO',\n",
       "       'lawrence', 'manhattan', 'northwest KS', 'salina', 'southeast KS',\n",
       "       'southwest KS', 'topeka', 'wichita', 'bowling green',\n",
       "       'eastern kentucky', 'huntington-ashland', 'lexington',\n",
       "       'louisville', 'owensboro', 'western KY', 'baton rouge',\n",
       "       'central louisiana', 'houma', 'lafayette', 'lake charles',\n",
       "       'monroe', 'new orleans', 'shreveport', 'maine', 'annapolis',\n",
       "       'baltimore', 'cumberland valley', 'eastern shore', 'frederick',\n",
       "       'southern maryland', 'western maryland', 'boston',\n",
       "       'cape cod / islands', 'south coast', 'western massachusetts',\n",
       "       'ann arbor', 'battle creek', 'central michigan', 'detroit metro',\n",
       "       'flint', 'grand rapids', 'holland', 'jackson', 'kalamazoo',\n",
       "       'lansing', 'muskegon', 'northern michigan', 'port huron',\n",
       "       'saginaw-midland-baycity', 'southwest michigan', 'the thumb',\n",
       "       'upper peninsula', 'bemidji', 'brainerd', 'duluth / superior',\n",
       "       'fargo / moorhead', 'mankato', 'minneapolis / st paul',\n",
       "       'rochester', 'southwest MN', 'st cloud', 'gulfport / biloxi',\n",
       "       'hattiesburg', 'meridian', 'north mississippi', 'southwest MS',\n",
       "       'columbia / jeff city', 'joplin', 'kansas city', 'kirksville',\n",
       "       'lake of the ozarks', 'southeast missouri', 'st joseph',\n",
       "       'st louis', 'billings', 'bozeman', 'butte', 'eastern montana',\n",
       "       'great falls', 'helena', 'kalispell', 'missoula', 'asheville',\n",
       "       'boone', 'charlotte', 'eastern NC', 'hickory / lenoir',\n",
       "       'outer banks', 'raleigh / durham / CH', 'wilmington',\n",
       "       'winston-salem', 'grand island', 'lincoln', 'north platte',\n",
       "       'scottsbluff / panhandle', 'elko', 'las vegas', 'central NJ',\n",
       "       'jersey shore', 'north jersey', 'south jersey', 'albuquerque',\n",
       "       'clovis / portales', 'farmington', 'las cruces',\n",
       "       'roswell / carlsbad', 'santa fe / taos', 'binghamton', 'buffalo',\n",
       "       'catskills', 'chautauqua', 'elmira-corning', 'finger lakes',\n",
       "       'glens falls', 'ithaca', 'long island', 'new york city', 'oneonta',\n",
       "       'plattsburgh-adirondacks', 'potsdam-canton-massena', 'syracuse',\n",
       "       'twin tiers NY/PA', 'utica-rome-oneida', 'watertown',\n",
       "       'new hampshire', 'bismarck', 'grand forks', 'north dakota',\n",
       "       'akron / canton', 'ashtabula', 'chillicothe', 'cincinnati',\n",
       "       'cleveland', 'dayton / springfield', 'lima / findlay', 'mansfield',\n",
       "       'northern panhandle', 'parkersburg-marietta', 'sandusky', 'toledo',\n",
       "       'tuscarawas co', 'youngstown', 'zanesville / cambridge',\n",
       "       'fort smith, AR', 'lawton', 'northwest OK', 'oklahoma city',\n",
       "       'stillwater', 'texoma', 'tulsa', 'bend', 'corvallis/albany',\n",
       "       'east oregon', 'eugene', 'klamath falls', 'oregon coast',\n",
       "       'portland', 'roseburg', 'salem', 'altoona-johnstown', 'harrisburg',\n",
       "       'lancaster', 'lehigh valley', 'meadville', 'philadelphia',\n",
       "       'pittsburgh', 'poconos', 'reading', 'scranton / wilkes-barre',\n",
       "       'state college', 'williamsport', 'york', 'rhode island',\n",
       "       'charleston', 'columbia', 'florence', 'greenville / upstate',\n",
       "       'hilton head', 'myrtle beach', 'northeast SD',\n",
       "       'pierre / central SD', 'rapid city / west SD',\n",
       "       'sioux falls / SE SD', 'south dakota', 'chattanooga',\n",
       "       'clarksville', 'cookeville', 'knoxville', 'memphis', 'nashville',\n",
       "       'tri-cities', 'abilene', 'amarillo', 'austin',\n",
       "       'beaumont / port arthur', 'brownsville', 'college station',\n",
       "       'corpus christi', 'dallas / fort worth', 'deep east texas',\n",
       "       'del rio / eagle pass', 'galveston', 'houston',\n",
       "       'killeen / temple / ft hood', 'laredo', 'lubbock',\n",
       "       'mcallen / edinburg', 'odessa / midland', 'san angelo',\n",
       "       'san antonio', 'san marcos', 'southwest TX', 'tyler / east TX',\n",
       "       'victoria', 'waco', 'wichita falls', 'logan', 'ogden-clearfield',\n",
       "       'provo / orem', 'salt lake city', 'st george', 'vermont',\n",
       "       'charlottesville', 'danville', 'fredericksburg', 'harrisonburg',\n",
       "       'lynchburg', 'new river valley', 'norfolk / hampton roads',\n",
       "       'roanoke', 'southwest VA', 'winchester',\n",
       "       'kennewick-pasco-richland', 'moses lake', 'olympic peninsula',\n",
       "       'seattle-tacoma', 'wenatchee', 'yakima', 'eastern panhandle',\n",
       "       'morgantown', 'southern WV', 'west virginia (old)',\n",
       "       'appleton-oshkosh-FDL', 'eau claire', 'green bay', 'janesville',\n",
       "       'kenosha-racine', 'madison', 'milwaukee', 'northern WI',\n",
       "       'sheboygan', 'wausau', 'wyoming'], dtype=object)"
      ]
     },
     "execution_count": 10,
     "metadata": {},
     "output_type": "execute_result"
    }
   ],
   "source": [
    "    # region - the region where the car was manufactured\n",
    "    df.region.unique()"
   ]
  },
  {
   "cell_type": "code",
   "execution_count": 11,
   "metadata": {},
   "outputs": [
    {
     "data": {
      "text/plain": [
       "array([ 6000, 11900, 21000, ...,  6328, 19853, 17873], dtype=int64)"
      ]
     },
     "execution_count": 11,
     "metadata": {},
     "output_type": "execute_result"
    }
   ],
   "source": [
    "    # price - how much the car cost\n",
    "    df.price.unique()"
   ]
  },
  {
   "cell_type": "code",
   "execution_count": 12,
   "metadata": {
    "scrolled": false
   },
   "outputs": [
    {
     "data": {
      "text/plain": [
       "array([  nan, 2014., 2010., 2020., 2017., 2013., 2012., 2016., 2019.,\n",
       "       2011., 1992., 2018., 2004., 2015., 2001., 2006., 1968., 2003.,\n",
       "       2008., 2007., 2005., 1966., 2009., 1998., 2002., 1999., 2021.,\n",
       "       1997., 1976., 1969., 1995., 1978., 1954., 1979., 1970., 1974.,\n",
       "       1996., 1987., 2000., 1955., 1960., 1991., 1972., 1988., 1994.,\n",
       "       1929., 1984., 1986., 1989., 1973., 1946., 1933., 1958., 1937.,\n",
       "       1985., 1957., 1953., 1942., 1963., 1977., 1993., 1903., 1990.,\n",
       "       1965., 1982., 1948., 1983., 1936., 1932., 1951., 1931., 1980.,\n",
       "       1967., 1971., 1947., 1981., 1926., 1962., 1975., 1964., 1934.,\n",
       "       1952., 1940., 1959., 1950., 1930., 1956., 1922., 1928., 2022.,\n",
       "       1901., 1941., 1924., 1927., 1939., 1923., 1949., 1961., 1935.,\n",
       "       1918., 1900., 1938., 1913., 1916., 1943., 1925., 1921., 1915.,\n",
       "       1945., 1902., 1905., 1920., 1944., 1910., 1909.])"
      ]
     },
     "execution_count": 12,
     "metadata": {},
     "output_type": "execute_result"
    }
   ],
   "source": [
    "    # year - when the car was manufactured\n",
    "    df.year.unique()"
   ]
  },
  {
   "cell_type": "code",
   "execution_count": 13,
   "metadata": {},
   "outputs": [
    {
     "data": {
      "text/plain": [
       "array([nan, 'gmc', 'chevrolet', 'toyota', 'ford', 'jeep', 'nissan', 'ram',\n",
       "       'mazda', 'cadillac', 'honda', 'dodge', 'lexus', 'jaguar', 'buick',\n",
       "       'chrysler', 'volvo', 'audi', 'infiniti', 'lincoln', 'alfa-romeo',\n",
       "       'subaru', 'acura', 'hyundai', 'mercedes-benz', 'bmw', 'mitsubishi',\n",
       "       'volkswagen', 'porsche', 'kia', 'rover', 'ferrari', 'mini',\n",
       "       'pontiac', 'fiat', 'tesla', 'saturn', 'mercury', 'harley-davidson',\n",
       "       'datsun', 'aston-martin', 'land rover', 'morgan'], dtype=object)"
      ]
     },
     "execution_count": 13,
     "metadata": {},
     "output_type": "execute_result"
    }
   ],
   "source": [
    "    # manufacturer - what car company manufactured the car\n",
    "    df.manufacturer.unique()"
   ]
  },
  {
   "cell_type": "code",
   "execution_count": 14,
   "metadata": {},
   "outputs": [
    {
     "data": {
      "text/plain": [
       "array([nan, 'sierra 1500 crew cab slt', 'silverado 1500', ...,\n",
       "       'gand wagoneer', '96 Suburban', 'Paige Glenbrook Touring'],\n",
       "      dtype=object)"
      ]
     },
     "execution_count": 14,
     "metadata": {},
     "output_type": "execute_result"
    }
   ],
   "source": [
    "    # model - the version of the car\n",
    "    df.model.unique()"
   ]
  },
  {
   "cell_type": "code",
   "execution_count": 15,
   "metadata": {},
   "outputs": [
    {
     "data": {
      "text/plain": [
       "array([nan, 'good', 'excellent', 'fair', 'like new', 'new', 'salvage'],\n",
       "      dtype=object)"
      ]
     },
     "execution_count": 15,
     "metadata": {},
     "output_type": "execute_result"
    }
   ],
   "source": [
    "    # condition - the current state of the car\n",
    "    df.condition.unique()"
   ]
  },
  {
   "cell_type": "code",
   "execution_count": 16,
   "metadata": {},
   "outputs": [
    {
     "data": {
      "text/plain": [
       "array([nan, '8 cylinders', '6 cylinders', '4 cylinders', '5 cylinders',\n",
       "       'other', '3 cylinders', '10 cylinders', '12 cylinders'],\n",
       "      dtype=object)"
      ]
     },
     "execution_count": 16,
     "metadata": {},
     "output_type": "execute_result"
    }
   ],
   "source": [
    "    # cylinders - the amount of cylinders that the car's engine has\n",
    "    df.cylinders.unique()"
   ]
  },
  {
   "cell_type": "code",
   "execution_count": 17,
   "metadata": {},
   "outputs": [
    {
     "data": {
      "text/plain": [
       "array([nan, 'gas', 'other', 'diesel', 'hybrid', 'electric'], dtype=object)"
      ]
     },
     "execution_count": 17,
     "metadata": {},
     "output_type": "execute_result"
    }
   ],
   "source": [
    "    # fuel - the type of fuel the car relys on to run\n",
    "    df.fuel.unique()"
   ]
  },
  {
   "cell_type": "code",
   "execution_count": 18,
   "metadata": {},
   "outputs": [
    {
     "data": {
      "text/plain": [
       "array([    nan,  57923.,  71229., ..., 172511.,  94964.,  26892.])"
      ]
     },
     "execution_count": 18,
     "metadata": {},
     "output_type": "execute_result"
    }
   ],
   "source": [
    "    # odometer - the total distance that the car has run so far\n",
    "    df.odometer.unique()"
   ]
  },
  {
   "cell_type": "code",
   "execution_count": 19,
   "metadata": {},
   "outputs": [
    {
     "data": {
      "text/plain": [
       "array([nan, 'clean', 'rebuilt', 'lien', 'salvage', 'missing',\n",
       "       'parts only'], dtype=object)"
      ]
     },
     "execution_count": 19,
     "metadata": {},
     "output_type": "execute_result"
    }
   ],
   "source": [
    "    # title_status - the legal ownership status of the car\n",
    "        # clean      - the car has no outstanding liens or legal issues\n",
    "        # salvage    - the car has been damaged to the extent \n",
    "        #                that the cost of repairing it is close or exceeds its current value\n",
    "        # rebuilt    - the car was previously declared salvage but has now been repaired to its roadworthy condition\n",
    "        # lien       - financial institution or individual having legal claim to the car\n",
    "        #                due to its outstanding loan/debt\n",
    "        # missing    - the legal documentation proving ownership of the car is not available or has been lost\n",
    "        # parts only - the car is beyond repair and \n",
    "        #                is intended to be dismantled rather than to be put back on the raod\n",
    "    df.title_status.unique()"
   ]
  },
  {
   "cell_type": "code",
   "execution_count": 20,
   "metadata": {},
   "outputs": [
    {
     "data": {
      "text/plain": [
       "array([nan, 'other', 'automatic', 'manual'], dtype=object)"
      ]
     },
     "execution_count": 20,
     "metadata": {},
     "output_type": "execute_result"
    }
   ],
   "source": [
    "    # transmission - the type of mechanical system responsible for the car's transmission\n",
    "    df.transmission.unique()"
   ]
  },
  {
   "cell_type": "code",
   "execution_count": 21,
   "metadata": {},
   "outputs": [
    {
     "data": {
      "text/plain": [
       "array([nan, '3GTP1VEC4EG551563', '1GCSCSE06AZ123805', ...,\n",
       "       '2HGES15535H620534', '1FDWF37P64EA24868', 'SAJGX2749VCOO8376'],\n",
       "      dtype=object)"
      ]
     },
     "execution_count": 21,
     "metadata": {},
     "output_type": "execute_result"
    }
   ],
   "source": [
    "    # VIN - stands for Vehicle Identification Number\n",
    "    #         serves as a fingerprint for the vehicle\n",
    "    #         providing a way to identify and track individual cars throughout their lifespan\n",
    "    df.VIN.unique()"
   ]
  },
  {
   "cell_type": "code",
   "execution_count": 22,
   "metadata": {},
   "outputs": [
    {
     "data": {
      "text/plain": [
       "array([nan, 'rwd', '4wd', 'fwd'], dtype=object)"
      ]
     },
     "execution_count": 22,
     "metadata": {},
     "output_type": "execute_result"
    }
   ],
   "source": [
    "    # drive - different types of drivetrains in cars\n",
    "    #           they indicate which car's wheels that the engine's power is distributing to\n",
    "        # rwd - rear-wheel drive\n",
    "        # 4wd - four-wheel drive\n",
    "        # fwd - front-wheel drive\n",
    "    df.drive.unique()"
   ]
  },
  {
   "cell_type": "code",
   "execution_count": 23,
   "metadata": {},
   "outputs": [
    {
     "data": {
      "text/plain": [
       "array([nan, 'full-size', 'mid-size', 'compact', 'sub-compact'],\n",
       "      dtype=object)"
      ]
     },
     "execution_count": 23,
     "metadata": {},
     "output_type": "execute_result"
    }
   ],
   "source": [
    "    # size - the size of the car\n",
    "        # full-size   - car with ample interior space for passengers and cargo\n",
    "        # mid-size    - smaller than full-size but larger than compact \n",
    "        #                 striking a balance between interior space and fuel efficiency\n",
    "        # compact     - smaller than mid-size\n",
    "        #                 known for their efficient fuel consumption and easy maneuverability\n",
    "        # sub-compact - the smallest out of all four\n",
    "        #                 its small size makes it great for urban commuting\n",
    "        #                 as well as parking and navigating in tight spaces\n",
    "    df['size'].unique()"
   ]
  },
  {
   "cell_type": "code",
   "execution_count": 24,
   "metadata": {},
   "outputs": [
    {
     "data": {
      "text/plain": [
       "array([nan, 'pickup', 'truck', 'other', 'coupe', 'SUV', 'hatchback',\n",
       "       'mini-van', 'sedan', 'offroad', 'bus', 'van', 'convertible',\n",
       "       'wagon'], dtype=object)"
      ]
     },
     "execution_count": 24,
     "metadata": {},
     "output_type": "execute_result"
    }
   ],
   "source": [
    "    # type - the type of car it is\n",
    "    df.type.unique()"
   ]
  },
  {
   "cell_type": "code",
   "execution_count": 25,
   "metadata": {},
   "outputs": [
    {
     "data": {
      "text/plain": [
       "array([nan, 'white', 'blue', 'red', 'black', 'silver', 'grey', 'brown',\n",
       "       'yellow', 'orange', 'green', 'custom', 'purple'], dtype=object)"
      ]
     },
     "execution_count": 25,
     "metadata": {},
     "output_type": "execute_result"
    }
   ],
   "source": [
    "    # paint_color - the color painted on the car\n",
    "    df.paint_color.unique()"
   ]
  },
  {
   "cell_type": "code",
   "execution_count": 26,
   "metadata": {},
   "outputs": [
    {
     "data": {
      "text/plain": [
       "array(['az', 'ar', 'fl', 'ma', 'nc', 'ny', 'or', 'pa', 'tx', 'wa', 'wi',\n",
       "       'al', 'ak', 'ca', 'co', 'ct', 'dc', 'de', 'ga', 'hi', 'id', 'il',\n",
       "       'in', 'ia', 'ks', 'ky', 'la', 'me', 'md', 'mi', 'mn', 'ms', 'mo',\n",
       "       'mt', 'ne', 'nv', 'nj', 'nm', 'nh', 'nd', 'oh', 'ok', 'ri', 'sc',\n",
       "       'sd', 'tn', 'ut', 'vt', 'va', 'wv', 'wy'], dtype=object)"
      ]
     },
     "execution_count": 26,
     "metadata": {},
     "output_type": "execute_result"
    }
   ],
   "source": [
    "    # state - the state in which the car was manufactured\n",
    "    df.state.unique()"
   ]
  },
  {
   "cell_type": "code",
   "execution_count": 27,
   "metadata": {},
   "outputs": [],
   "source": [
    "# Thus, to sum up, I believe the dataset represents each car by:\n",
    "    # its label (id, VIN)\n",
    "    # its manufacturing (year, region, state, manufacturer)\n",
    "    # its car types and looks (model, type, size, paint_color)\n",
    "    # its current status/history (condition, title_status, odometer)\n",
    "    # its car parts and other backgrounds (cylinders, fuel, transmission, drive)\n",
    "    # and of course, how much it's cost (price)"
   ]
  },
  {
   "cell_type": "markdown",
   "metadata": {},
   "source": [
    "### Data Preparation\n",
    "\n",
    "After our initial exploration and fine tuning of the business understanding, it is time to construct our final dataset prior to modeling.  Here, we want to make sure to handle any integrity issues and cleaning, the engineering of new features, any transformations that we believe should happen (scaling, logarithms, normalization, etc.), and general preparation for modeling with `sklearn`. "
   ]
  },
  {
   "cell_type": "code",
   "execution_count": 28,
   "metadata": {},
   "outputs": [
    {
     "data": {
      "text/html": [
       "<div>\n",
       "<style scoped>\n",
       "    .dataframe tbody tr th:only-of-type {\n",
       "        vertical-align: middle;\n",
       "    }\n",
       "\n",
       "    .dataframe tbody tr th {\n",
       "        vertical-align: top;\n",
       "    }\n",
       "\n",
       "    .dataframe thead th {\n",
       "        text-align: right;\n",
       "    }\n",
       "</style>\n",
       "<table border=\"1\" class=\"dataframe\">\n",
       "  <thead>\n",
       "    <tr style=\"text-align: right;\">\n",
       "      <th></th>\n",
       "      <th>region</th>\n",
       "      <th>price</th>\n",
       "      <th>year</th>\n",
       "      <th>manufacturer</th>\n",
       "      <th>model</th>\n",
       "      <th>condition</th>\n",
       "      <th>cylinders</th>\n",
       "      <th>fuel</th>\n",
       "      <th>odometer</th>\n",
       "      <th>title_status</th>\n",
       "      <th>transmission</th>\n",
       "      <th>drive</th>\n",
       "      <th>size</th>\n",
       "      <th>type</th>\n",
       "      <th>paint_color</th>\n",
       "      <th>state</th>\n",
       "    </tr>\n",
       "  </thead>\n",
       "  <tbody>\n",
       "    <tr>\n",
       "      <th>0</th>\n",
       "      <td>prescott</td>\n",
       "      <td>6000</td>\n",
       "      <td>NaN</td>\n",
       "      <td>NaN</td>\n",
       "      <td>NaN</td>\n",
       "      <td>NaN</td>\n",
       "      <td>NaN</td>\n",
       "      <td>NaN</td>\n",
       "      <td>NaN</td>\n",
       "      <td>NaN</td>\n",
       "      <td>NaN</td>\n",
       "      <td>NaN</td>\n",
       "      <td>NaN</td>\n",
       "      <td>NaN</td>\n",
       "      <td>NaN</td>\n",
       "      <td>az</td>\n",
       "    </tr>\n",
       "    <tr>\n",
       "      <th>1</th>\n",
       "      <td>fayetteville</td>\n",
       "      <td>11900</td>\n",
       "      <td>NaN</td>\n",
       "      <td>NaN</td>\n",
       "      <td>NaN</td>\n",
       "      <td>NaN</td>\n",
       "      <td>NaN</td>\n",
       "      <td>NaN</td>\n",
       "      <td>NaN</td>\n",
       "      <td>NaN</td>\n",
       "      <td>NaN</td>\n",
       "      <td>NaN</td>\n",
       "      <td>NaN</td>\n",
       "      <td>NaN</td>\n",
       "      <td>NaN</td>\n",
       "      <td>ar</td>\n",
       "    </tr>\n",
       "    <tr>\n",
       "      <th>2</th>\n",
       "      <td>florida keys</td>\n",
       "      <td>21000</td>\n",
       "      <td>NaN</td>\n",
       "      <td>NaN</td>\n",
       "      <td>NaN</td>\n",
       "      <td>NaN</td>\n",
       "      <td>NaN</td>\n",
       "      <td>NaN</td>\n",
       "      <td>NaN</td>\n",
       "      <td>NaN</td>\n",
       "      <td>NaN</td>\n",
       "      <td>NaN</td>\n",
       "      <td>NaN</td>\n",
       "      <td>NaN</td>\n",
       "      <td>NaN</td>\n",
       "      <td>fl</td>\n",
       "    </tr>\n",
       "    <tr>\n",
       "      <th>3</th>\n",
       "      <td>worcester / central MA</td>\n",
       "      <td>1500</td>\n",
       "      <td>NaN</td>\n",
       "      <td>NaN</td>\n",
       "      <td>NaN</td>\n",
       "      <td>NaN</td>\n",
       "      <td>NaN</td>\n",
       "      <td>NaN</td>\n",
       "      <td>NaN</td>\n",
       "      <td>NaN</td>\n",
       "      <td>NaN</td>\n",
       "      <td>NaN</td>\n",
       "      <td>NaN</td>\n",
       "      <td>NaN</td>\n",
       "      <td>NaN</td>\n",
       "      <td>ma</td>\n",
       "    </tr>\n",
       "    <tr>\n",
       "      <th>4</th>\n",
       "      <td>greensboro</td>\n",
       "      <td>4900</td>\n",
       "      <td>NaN</td>\n",
       "      <td>NaN</td>\n",
       "      <td>NaN</td>\n",
       "      <td>NaN</td>\n",
       "      <td>NaN</td>\n",
       "      <td>NaN</td>\n",
       "      <td>NaN</td>\n",
       "      <td>NaN</td>\n",
       "      <td>NaN</td>\n",
       "      <td>NaN</td>\n",
       "      <td>NaN</td>\n",
       "      <td>NaN</td>\n",
       "      <td>NaN</td>\n",
       "      <td>nc</td>\n",
       "    </tr>\n",
       "  </tbody>\n",
       "</table>\n",
       "</div>"
      ],
      "text/plain": [
       "                   region  price  year manufacturer model condition cylinders  \\\n",
       "0                prescott   6000   NaN          NaN   NaN       NaN       NaN   \n",
       "1            fayetteville  11900   NaN          NaN   NaN       NaN       NaN   \n",
       "2            florida keys  21000   NaN          NaN   NaN       NaN       NaN   \n",
       "3  worcester / central MA   1500   NaN          NaN   NaN       NaN       NaN   \n",
       "4              greensboro   4900   NaN          NaN   NaN       NaN       NaN   \n",
       "\n",
       "  fuel  odometer title_status transmission drive size type paint_color state  \n",
       "0  NaN       NaN          NaN          NaN   NaN  NaN  NaN         NaN    az  \n",
       "1  NaN       NaN          NaN          NaN   NaN  NaN  NaN         NaN    ar  \n",
       "2  NaN       NaN          NaN          NaN   NaN  NaN  NaN         NaN    fl  \n",
       "3  NaN       NaN          NaN          NaN   NaN  NaN  NaN         NaN    ma  \n",
       "4  NaN       NaN          NaN          NaN   NaN  NaN  NaN         NaN    nc  "
      ]
     },
     "execution_count": 28,
     "metadata": {},
     "output_type": "execute_result"
    }
   ],
   "source": [
    "# Our targeted column is the 'price'.\n",
    "# When you think about it realistically/logically, the car's unique identity labels shouldn't impact its value.\n",
    "# Thus, we should drop the columns 'id' and 'VIN'\n",
    "df_drop = df.drop(columns=['id','VIN'])\n",
    "df_drop.head(5)"
   ]
  },
  {
   "cell_type": "code",
   "execution_count": 29,
   "metadata": {},
   "outputs": [],
   "source": [
    "# As mentioned before, the dataset's biggest issue is its numerous missing values.\n",
    "# Getting rid of all missing values is not a good idea as that will sacrifice most of the data.\n",
    "# Thus, as Savio mentioned in his last office hour, we should rely on imputers.\n",
    "\n",
    "# Presuming that they may be strong relationships between the missing values and other features,\n",
    "# I am going to use the K-Nearest Neighbor Imputer.\n",
    "from sklearn.impute import KNNImputer"
   ]
  },
  {
   "cell_type": "code",
   "execution_count": 30,
   "metadata": {
    "scrolled": true
   },
   "outputs": [],
   "source": [
    "imputer = KNNImputer()\n",
    "# the fit_transform will produce an error because df_clean contains categorical columns\n",
    "# imputed_df = imputer.fit_transform(df_drop)\n",
    "# imputed_df.head(5)"
   ]
  },
  {
   "cell_type": "code",
   "execution_count": 31,
   "metadata": {},
   "outputs": [],
   "source": [
    "# If you don't have fancyimpute installed, then you'll need to install it in your Anaconda prompt with the below code:\n",
    "# conda install -c conda-forge fancyimpute"
   ]
  },
  {
   "cell_type": "code",
   "execution_count": 32,
   "metadata": {},
   "outputs": [
    {
     "name": "stdout",
     "output_type": "stream",
     "text": [
      "(CVXPY) Aug 29 12:05:11 AM: Encountered unexpected exception importing solver OSQP:\n",
      "ImportError('DLL load failed while importing qdldl: The specified module could not be found.')\n"
     ]
    }
   ],
   "source": [
    "# It turns out that KNNImputer doesn't work for non-numeric columns.\n",
    "# However, there may exist another KNNImputer adapted for categorical data.\n",
    "# Perhaps KNN from fancyimpute would be one?\n",
    "from fancyimpute import KNN\n",
    "\n",
    "# this fit_transform also produce an error for the similar reason\n",
    "# imputed_df = KNN().fit_transform(df_drop)\n",
    "# imputed_df.head(5)"
   ]
  },
  {
   "cell_type": "code",
   "execution_count": 33,
   "metadata": {},
   "outputs": [],
   "source": [
    "# Nope, there's none after all.\n",
    "# Let's try IterativeImputer\n",
    "from sklearn.experimental import enable_iterative_imputer\n",
    "from sklearn.impute import IterativeImputer"
   ]
  },
  {
   "cell_type": "code",
   "execution_count": 34,
   "metadata": {
    "scrolled": true
   },
   "outputs": [],
   "source": [
    "imputer = IterativeImputer(random_state=0)\n",
    "# Doesn't work either for the same reason\n",
    "# imputer.fit(df_drop)\n",
    "# imputed_df = imputer.transform(df_drop)\n",
    "# imputed_df.head(5)"
   ]
  },
  {
   "cell_type": "code",
   "execution_count": 35,
   "metadata": {},
   "outputs": [],
   "source": [
    "# Since median and mean wouldn't work for non-numeric columns,\n",
    "# I might as well use a SimpleImputer using the strategy Mode\n",
    "from sklearn.impute import SimpleImputer"
   ]
  },
  {
   "cell_type": "code",
   "execution_count": 36,
   "metadata": {},
   "outputs": [
    {
     "data": {
      "text/html": [
       "<div>\n",
       "<style scoped>\n",
       "    .dataframe tbody tr th:only-of-type {\n",
       "        vertical-align: middle;\n",
       "    }\n",
       "\n",
       "    .dataframe tbody tr th {\n",
       "        vertical-align: top;\n",
       "    }\n",
       "\n",
       "    .dataframe thead th {\n",
       "        text-align: right;\n",
       "    }\n",
       "</style>\n",
       "<table border=\"1\" class=\"dataframe\">\n",
       "  <thead>\n",
       "    <tr style=\"text-align: right;\">\n",
       "      <th></th>\n",
       "      <th>region</th>\n",
       "      <th>price</th>\n",
       "      <th>year</th>\n",
       "      <th>manufacturer</th>\n",
       "      <th>model</th>\n",
       "      <th>condition</th>\n",
       "      <th>cylinders</th>\n",
       "      <th>fuel</th>\n",
       "      <th>odometer</th>\n",
       "      <th>title_status</th>\n",
       "      <th>transmission</th>\n",
       "      <th>drive</th>\n",
       "      <th>size</th>\n",
       "      <th>type</th>\n",
       "      <th>paint_color</th>\n",
       "      <th>state</th>\n",
       "    </tr>\n",
       "  </thead>\n",
       "  <tbody>\n",
       "    <tr>\n",
       "      <th>0</th>\n",
       "      <td>prescott</td>\n",
       "      <td>6000</td>\n",
       "      <td>2017.0</td>\n",
       "      <td>ford</td>\n",
       "      <td>f-150</td>\n",
       "      <td>good</td>\n",
       "      <td>6 cylinders</td>\n",
       "      <td>gas</td>\n",
       "      <td>100000.0</td>\n",
       "      <td>clean</td>\n",
       "      <td>automatic</td>\n",
       "      <td>4wd</td>\n",
       "      <td>full-size</td>\n",
       "      <td>sedan</td>\n",
       "      <td>white</td>\n",
       "      <td>az</td>\n",
       "    </tr>\n",
       "    <tr>\n",
       "      <th>1</th>\n",
       "      <td>fayetteville</td>\n",
       "      <td>11900</td>\n",
       "      <td>2017.0</td>\n",
       "      <td>ford</td>\n",
       "      <td>f-150</td>\n",
       "      <td>good</td>\n",
       "      <td>6 cylinders</td>\n",
       "      <td>gas</td>\n",
       "      <td>100000.0</td>\n",
       "      <td>clean</td>\n",
       "      <td>automatic</td>\n",
       "      <td>4wd</td>\n",
       "      <td>full-size</td>\n",
       "      <td>sedan</td>\n",
       "      <td>white</td>\n",
       "      <td>ar</td>\n",
       "    </tr>\n",
       "    <tr>\n",
       "      <th>2</th>\n",
       "      <td>florida keys</td>\n",
       "      <td>21000</td>\n",
       "      <td>2017.0</td>\n",
       "      <td>ford</td>\n",
       "      <td>f-150</td>\n",
       "      <td>good</td>\n",
       "      <td>6 cylinders</td>\n",
       "      <td>gas</td>\n",
       "      <td>100000.0</td>\n",
       "      <td>clean</td>\n",
       "      <td>automatic</td>\n",
       "      <td>4wd</td>\n",
       "      <td>full-size</td>\n",
       "      <td>sedan</td>\n",
       "      <td>white</td>\n",
       "      <td>fl</td>\n",
       "    </tr>\n",
       "    <tr>\n",
       "      <th>3</th>\n",
       "      <td>worcester / central MA</td>\n",
       "      <td>1500</td>\n",
       "      <td>2017.0</td>\n",
       "      <td>ford</td>\n",
       "      <td>f-150</td>\n",
       "      <td>good</td>\n",
       "      <td>6 cylinders</td>\n",
       "      <td>gas</td>\n",
       "      <td>100000.0</td>\n",
       "      <td>clean</td>\n",
       "      <td>automatic</td>\n",
       "      <td>4wd</td>\n",
       "      <td>full-size</td>\n",
       "      <td>sedan</td>\n",
       "      <td>white</td>\n",
       "      <td>ma</td>\n",
       "    </tr>\n",
       "    <tr>\n",
       "      <th>4</th>\n",
       "      <td>greensboro</td>\n",
       "      <td>4900</td>\n",
       "      <td>2017.0</td>\n",
       "      <td>ford</td>\n",
       "      <td>f-150</td>\n",
       "      <td>good</td>\n",
       "      <td>6 cylinders</td>\n",
       "      <td>gas</td>\n",
       "      <td>100000.0</td>\n",
       "      <td>clean</td>\n",
       "      <td>automatic</td>\n",
       "      <td>4wd</td>\n",
       "      <td>full-size</td>\n",
       "      <td>sedan</td>\n",
       "      <td>white</td>\n",
       "      <td>nc</td>\n",
       "    </tr>\n",
       "  </tbody>\n",
       "</table>\n",
       "</div>"
      ],
      "text/plain": [
       "                   region  price    year manufacturer  model condition  \\\n",
       "0                prescott   6000  2017.0         ford  f-150      good   \n",
       "1            fayetteville  11900  2017.0         ford  f-150      good   \n",
       "2            florida keys  21000  2017.0         ford  f-150      good   \n",
       "3  worcester / central MA   1500  2017.0         ford  f-150      good   \n",
       "4              greensboro   4900  2017.0         ford  f-150      good   \n",
       "\n",
       "     cylinders fuel  odometer title_status transmission drive       size  \\\n",
       "0  6 cylinders  gas  100000.0        clean    automatic   4wd  full-size   \n",
       "1  6 cylinders  gas  100000.0        clean    automatic   4wd  full-size   \n",
       "2  6 cylinders  gas  100000.0        clean    automatic   4wd  full-size   \n",
       "3  6 cylinders  gas  100000.0        clean    automatic   4wd  full-size   \n",
       "4  6 cylinders  gas  100000.0        clean    automatic   4wd  full-size   \n",
       "\n",
       "    type paint_color state  \n",
       "0  sedan       white    az  \n",
       "1  sedan       white    ar  \n",
       "2  sedan       white    fl  \n",
       "3  sedan       white    ma  \n",
       "4  sedan       white    nc  "
      ]
     },
     "execution_count": 36,
     "metadata": {},
     "output_type": "execute_result"
    }
   ],
   "source": [
    "# I've finally found a solution. Filling all missing values with frequent values using SimpleImputer.\n",
    "# However, this relies on the feature itself rather than relying on the relaionship of other features\n",
    "# in which I personally see as less accurate.\n",
    "imputer = SimpleImputer(strategy='most_frequent')\n",
    "imputed_data = imputer.fit_transform(df_drop)\n",
    "imputed_df = pd.DataFrame(imputed_data, columns=df_drop.columns)\n",
    "imputed_df.head(5)"
   ]
  },
  {
   "cell_type": "code",
   "execution_count": 37,
   "metadata": {},
   "outputs": [],
   "source": [
    "# If you don't have impyute installed, then do so with the following code below:\n",
    "# pip install impyute"
   ]
  },
  {
   "cell_type": "code",
   "execution_count": 38,
   "metadata": {},
   "outputs": [],
   "source": [
    "# Let's try this instead.\n",
    "# Converting all categorical columns to numerical representations\n",
    "# and then using fast_knn from impyute.imputation.cs.\n",
    "from impyute.imputation.cs import fast_knn"
   ]
  },
  {
   "cell_type": "code",
   "execution_count": 39,
   "metadata": {},
   "outputs": [],
   "source": [
    "# Converting...\n",
    "#df_to_numeric = pd.get_dummies(df_drop, dummy_na=True)\n",
    "#df_to_numeric.head(5)\n",
    "\n",
    "# This doesn't work because DataFrame object doesn't have attribute as_matrix\n",
    "# in which I don't know what it means.\n",
    "\n",
    "# Performing KNN-based imputation...\n",
    "#imputed_numeric_df = fast_knn(df_to_numeric, k=df_drop.shape[1])\n",
    "\n",
    "# Converting back to categorical\n",
    "#imputed_categorical_df = pd.DataFrame(imputed_numeric_df, columns=df_to_numeric.columns).idxmax(axis=1)\n",
    "#imputed_categorical_df.head(5)"
   ]
  },
  {
   "cell_type": "code",
   "execution_count": 40,
   "metadata": {},
   "outputs": [
    {
     "data": {
      "text/html": [
       "<div>\n",
       "<style scoped>\n",
       "    .dataframe tbody tr th:only-of-type {\n",
       "        vertical-align: middle;\n",
       "    }\n",
       "\n",
       "    .dataframe tbody tr th {\n",
       "        vertical-align: top;\n",
       "    }\n",
       "\n",
       "    .dataframe thead th {\n",
       "        text-align: right;\n",
       "    }\n",
       "</style>\n",
       "<table border=\"1\" class=\"dataframe\">\n",
       "  <thead>\n",
       "    <tr style=\"text-align: right;\">\n",
       "      <th></th>\n",
       "      <th>region</th>\n",
       "      <th>price</th>\n",
       "      <th>year</th>\n",
       "      <th>manufacturer</th>\n",
       "      <th>model</th>\n",
       "      <th>condition</th>\n",
       "      <th>cylinders</th>\n",
       "      <th>fuel</th>\n",
       "      <th>odometer</th>\n",
       "      <th>title_status</th>\n",
       "      <th>transmission</th>\n",
       "      <th>drive</th>\n",
       "      <th>size</th>\n",
       "      <th>type</th>\n",
       "      <th>paint_color</th>\n",
       "      <th>state</th>\n",
       "    </tr>\n",
       "  </thead>\n",
       "  <tbody>\n",
       "    <tr>\n",
       "      <th>0</th>\n",
       "      <td>prescott</td>\n",
       "      <td>6000</td>\n",
       "      <td>2017.0</td>\n",
       "      <td>ford</td>\n",
       "      <td>f-150</td>\n",
       "      <td>good</td>\n",
       "      <td>6 cylinders</td>\n",
       "      <td>gas</td>\n",
       "      <td>100000.0</td>\n",
       "      <td>clean</td>\n",
       "      <td>automatic</td>\n",
       "      <td>4wd</td>\n",
       "      <td>full-size</td>\n",
       "      <td>sedan</td>\n",
       "      <td>white</td>\n",
       "      <td>az</td>\n",
       "    </tr>\n",
       "    <tr>\n",
       "      <th>1</th>\n",
       "      <td>fayetteville</td>\n",
       "      <td>11900</td>\n",
       "      <td>2017.0</td>\n",
       "      <td>ford</td>\n",
       "      <td>f-150</td>\n",
       "      <td>good</td>\n",
       "      <td>6 cylinders</td>\n",
       "      <td>gas</td>\n",
       "      <td>100000.0</td>\n",
       "      <td>clean</td>\n",
       "      <td>automatic</td>\n",
       "      <td>4wd</td>\n",
       "      <td>full-size</td>\n",
       "      <td>sedan</td>\n",
       "      <td>white</td>\n",
       "      <td>ar</td>\n",
       "    </tr>\n",
       "    <tr>\n",
       "      <th>2</th>\n",
       "      <td>florida keys</td>\n",
       "      <td>21000</td>\n",
       "      <td>2017.0</td>\n",
       "      <td>ford</td>\n",
       "      <td>f-150</td>\n",
       "      <td>good</td>\n",
       "      <td>6 cylinders</td>\n",
       "      <td>gas</td>\n",
       "      <td>100000.0</td>\n",
       "      <td>clean</td>\n",
       "      <td>automatic</td>\n",
       "      <td>4wd</td>\n",
       "      <td>full-size</td>\n",
       "      <td>sedan</td>\n",
       "      <td>white</td>\n",
       "      <td>fl</td>\n",
       "    </tr>\n",
       "    <tr>\n",
       "      <th>3</th>\n",
       "      <td>worcester / central MA</td>\n",
       "      <td>1500</td>\n",
       "      <td>2017.0</td>\n",
       "      <td>ford</td>\n",
       "      <td>f-150</td>\n",
       "      <td>good</td>\n",
       "      <td>6 cylinders</td>\n",
       "      <td>gas</td>\n",
       "      <td>100000.0</td>\n",
       "      <td>clean</td>\n",
       "      <td>automatic</td>\n",
       "      <td>4wd</td>\n",
       "      <td>full-size</td>\n",
       "      <td>sedan</td>\n",
       "      <td>white</td>\n",
       "      <td>ma</td>\n",
       "    </tr>\n",
       "    <tr>\n",
       "      <th>4</th>\n",
       "      <td>greensboro</td>\n",
       "      <td>4900</td>\n",
       "      <td>2017.0</td>\n",
       "      <td>ford</td>\n",
       "      <td>f-150</td>\n",
       "      <td>good</td>\n",
       "      <td>6 cylinders</td>\n",
       "      <td>gas</td>\n",
       "      <td>100000.0</td>\n",
       "      <td>clean</td>\n",
       "      <td>automatic</td>\n",
       "      <td>4wd</td>\n",
       "      <td>full-size</td>\n",
       "      <td>sedan</td>\n",
       "      <td>white</td>\n",
       "      <td>nc</td>\n",
       "    </tr>\n",
       "  </tbody>\n",
       "</table>\n",
       "</div>"
      ],
      "text/plain": [
       "                   region  price    year manufacturer  model condition  \\\n",
       "0                prescott   6000  2017.0         ford  f-150      good   \n",
       "1            fayetteville  11900  2017.0         ford  f-150      good   \n",
       "2            florida keys  21000  2017.0         ford  f-150      good   \n",
       "3  worcester / central MA   1500  2017.0         ford  f-150      good   \n",
       "4              greensboro   4900  2017.0         ford  f-150      good   \n",
       "\n",
       "     cylinders fuel  odometer title_status transmission drive       size  \\\n",
       "0  6 cylinders  gas  100000.0        clean    automatic   4wd  full-size   \n",
       "1  6 cylinders  gas  100000.0        clean    automatic   4wd  full-size   \n",
       "2  6 cylinders  gas  100000.0        clean    automatic   4wd  full-size   \n",
       "3  6 cylinders  gas  100000.0        clean    automatic   4wd  full-size   \n",
       "4  6 cylinders  gas  100000.0        clean    automatic   4wd  full-size   \n",
       "\n",
       "    type paint_color state  \n",
       "0  sedan       white    az  \n",
       "1  sedan       white    ar  \n",
       "2  sedan       white    fl  \n",
       "3  sedan       white    ma  \n",
       "4  sedan       white    nc  "
      ]
     },
     "execution_count": 40,
     "metadata": {},
     "output_type": "execute_result"
    }
   ],
   "source": [
    "# Thus, we shall be sticking with SimpleImputer with strategy 'most_frequent'\n",
    "imputed_df.head(5)"
   ]
  },
  {
   "cell_type": "code",
   "execution_count": 41,
   "metadata": {},
   "outputs": [
    {
     "data": {
      "text/plain": [
       "region          0\n",
       "price           0\n",
       "year            0\n",
       "manufacturer    0\n",
       "model           0\n",
       "condition       0\n",
       "cylinders       0\n",
       "fuel            0\n",
       "odometer        0\n",
       "title_status    0\n",
       "transmission    0\n",
       "drive           0\n",
       "size            0\n",
       "type            0\n",
       "paint_color     0\n",
       "state           0\n",
       "dtype: int64"
      ]
     },
     "execution_count": 41,
     "metadata": {},
     "output_type": "execute_result"
    }
   ],
   "source": [
    "# As you can see, there aren't any null values left. \n",
    "# All of them are replaced by frequent values in each column which may make the DataFrame more bias or inaccurate \n",
    "# but I personally believe it's better than getting rid of most of the data.\n",
    "imputed_df.isnull().sum()"
   ]
  },
  {
   "cell_type": "code",
   "execution_count": 42,
   "metadata": {},
   "outputs": [
    {
     "data": {
      "text/plain": [
       "32895"
      ]
     },
     "execution_count": 42,
     "metadata": {},
     "output_type": "execute_result"
    }
   ],
   "source": [
    "# It wouldn't make sense for price to be 0.\n",
    "imputed_df.price.eq(0).sum()"
   ]
  },
  {
   "cell_type": "code",
   "execution_count": 43,
   "metadata": {},
   "outputs": [
    {
     "data": {
      "text/plain": [
       "0"
      ]
     },
     "execution_count": 43,
     "metadata": {},
     "output_type": "execute_result"
    }
   ],
   "source": [
    "# Since there exists some prices that are 0, let's replace them all with a median of all nonzero prices.\n",
    "median = imputed_df.query('price > 0')['price'].median()\n",
    "imputed_df['price'] = imputed_df['price'].replace(0, median)\n",
    "imputed_df.price.eq(0).sum()"
   ]
  },
  {
   "cell_type": "code",
   "execution_count": 44,
   "metadata": {},
   "outputs": [],
   "source": [
    "# The models that I'll use may impact how I will categorically encode the dataset so\n",
    "# I won't do any encoding in the Data Preparation but in the Modeling instead."
   ]
  },
  {
   "cell_type": "markdown",
   "metadata": {},
   "source": [
    "### Modeling\n",
    "\n",
    "With your (almost?) final dataset in hand, it is now time to build some models.  Here, you should build a number of different regression models with the price as the target.  In building your models, you should explore different parameters and be sure to cross-validate your findings."
   ]
  },
  {
   "cell_type": "code",
   "execution_count": 45,
   "metadata": {},
   "outputs": [
    {
     "data": {
      "text/html": [
       "<div>\n",
       "<style scoped>\n",
       "    .dataframe tbody tr th:only-of-type {\n",
       "        vertical-align: middle;\n",
       "    }\n",
       "\n",
       "    .dataframe tbody tr th {\n",
       "        vertical-align: top;\n",
       "    }\n",
       "\n",
       "    .dataframe thead th {\n",
       "        text-align: right;\n",
       "    }\n",
       "</style>\n",
       "<table border=\"1\" class=\"dataframe\">\n",
       "  <thead>\n",
       "    <tr style=\"text-align: right;\">\n",
       "      <th></th>\n",
       "      <th>region</th>\n",
       "      <th>price</th>\n",
       "      <th>year</th>\n",
       "      <th>manufacturer</th>\n",
       "      <th>model</th>\n",
       "      <th>condition</th>\n",
       "      <th>cylinders</th>\n",
       "      <th>fuel</th>\n",
       "      <th>odometer</th>\n",
       "      <th>title_status</th>\n",
       "      <th>transmission</th>\n",
       "      <th>drive</th>\n",
       "      <th>size</th>\n",
       "      <th>type</th>\n",
       "      <th>paint_color</th>\n",
       "      <th>state</th>\n",
       "    </tr>\n",
       "  </thead>\n",
       "  <tbody>\n",
       "    <tr>\n",
       "      <th>0</th>\n",
       "      <td>prescott</td>\n",
       "      <td>6000.0</td>\n",
       "      <td>2017.0</td>\n",
       "      <td>ford</td>\n",
       "      <td>f-150</td>\n",
       "      <td>good</td>\n",
       "      <td>6 cylinders</td>\n",
       "      <td>gas</td>\n",
       "      <td>100000.0</td>\n",
       "      <td>clean</td>\n",
       "      <td>automatic</td>\n",
       "      <td>4wd</td>\n",
       "      <td>full-size</td>\n",
       "      <td>sedan</td>\n",
       "      <td>white</td>\n",
       "      <td>az</td>\n",
       "    </tr>\n",
       "    <tr>\n",
       "      <th>1</th>\n",
       "      <td>fayetteville</td>\n",
       "      <td>11900.0</td>\n",
       "      <td>2017.0</td>\n",
       "      <td>ford</td>\n",
       "      <td>f-150</td>\n",
       "      <td>good</td>\n",
       "      <td>6 cylinders</td>\n",
       "      <td>gas</td>\n",
       "      <td>100000.0</td>\n",
       "      <td>clean</td>\n",
       "      <td>automatic</td>\n",
       "      <td>4wd</td>\n",
       "      <td>full-size</td>\n",
       "      <td>sedan</td>\n",
       "      <td>white</td>\n",
       "      <td>ar</td>\n",
       "    </tr>\n",
       "    <tr>\n",
       "      <th>2</th>\n",
       "      <td>florida keys</td>\n",
       "      <td>21000.0</td>\n",
       "      <td>2017.0</td>\n",
       "      <td>ford</td>\n",
       "      <td>f-150</td>\n",
       "      <td>good</td>\n",
       "      <td>6 cylinders</td>\n",
       "      <td>gas</td>\n",
       "      <td>100000.0</td>\n",
       "      <td>clean</td>\n",
       "      <td>automatic</td>\n",
       "      <td>4wd</td>\n",
       "      <td>full-size</td>\n",
       "      <td>sedan</td>\n",
       "      <td>white</td>\n",
       "      <td>fl</td>\n",
       "    </tr>\n",
       "    <tr>\n",
       "      <th>3</th>\n",
       "      <td>worcester / central MA</td>\n",
       "      <td>1500.0</td>\n",
       "      <td>2017.0</td>\n",
       "      <td>ford</td>\n",
       "      <td>f-150</td>\n",
       "      <td>good</td>\n",
       "      <td>6 cylinders</td>\n",
       "      <td>gas</td>\n",
       "      <td>100000.0</td>\n",
       "      <td>clean</td>\n",
       "      <td>automatic</td>\n",
       "      <td>4wd</td>\n",
       "      <td>full-size</td>\n",
       "      <td>sedan</td>\n",
       "      <td>white</td>\n",
       "      <td>ma</td>\n",
       "    </tr>\n",
       "    <tr>\n",
       "      <th>4</th>\n",
       "      <td>greensboro</td>\n",
       "      <td>4900.0</td>\n",
       "      <td>2017.0</td>\n",
       "      <td>ford</td>\n",
       "      <td>f-150</td>\n",
       "      <td>good</td>\n",
       "      <td>6 cylinders</td>\n",
       "      <td>gas</td>\n",
       "      <td>100000.0</td>\n",
       "      <td>clean</td>\n",
       "      <td>automatic</td>\n",
       "      <td>4wd</td>\n",
       "      <td>full-size</td>\n",
       "      <td>sedan</td>\n",
       "      <td>white</td>\n",
       "      <td>nc</td>\n",
       "    </tr>\n",
       "  </tbody>\n",
       "</table>\n",
       "</div>"
      ],
      "text/plain": [
       "                   region    price    year manufacturer  model condition  \\\n",
       "0                prescott   6000.0  2017.0         ford  f-150      good   \n",
       "1            fayetteville  11900.0  2017.0         ford  f-150      good   \n",
       "2            florida keys  21000.0  2017.0         ford  f-150      good   \n",
       "3  worcester / central MA   1500.0  2017.0         ford  f-150      good   \n",
       "4              greensboro   4900.0  2017.0         ford  f-150      good   \n",
       "\n",
       "     cylinders fuel  odometer title_status transmission drive       size  \\\n",
       "0  6 cylinders  gas  100000.0        clean    automatic   4wd  full-size   \n",
       "1  6 cylinders  gas  100000.0        clean    automatic   4wd  full-size   \n",
       "2  6 cylinders  gas  100000.0        clean    automatic   4wd  full-size   \n",
       "3  6 cylinders  gas  100000.0        clean    automatic   4wd  full-size   \n",
       "4  6 cylinders  gas  100000.0        clean    automatic   4wd  full-size   \n",
       "\n",
       "    type paint_color state  \n",
       "0  sedan       white    az  \n",
       "1  sedan       white    ar  \n",
       "2  sedan       white    fl  \n",
       "3  sedan       white    ma  \n",
       "4  sedan       white    nc  "
      ]
     },
     "execution_count": 45,
     "metadata": {},
     "output_type": "execute_result"
    }
   ],
   "source": [
    "# As a reminder, this will be the final dataset that we will create some models for:\n",
    "imputed_df.head(5)"
   ]
  },
  {
   "cell_type": "code",
   "execution_count": 46,
   "metadata": {},
   "outputs": [],
   "source": [
    "# Splitting the features (X) from the targeted column 'price' (y)\n",
    "X = imputed_df.drop(columns=\"price\")\n",
    "y = imputed_df[\"price\"]"
   ]
  },
  {
   "cell_type": "code",
   "execution_count": 47,
   "metadata": {},
   "outputs": [
    {
     "data": {
      "text/html": [
       "<div>\n",
       "<style scoped>\n",
       "    .dataframe tbody tr th:only-of-type {\n",
       "        vertical-align: middle;\n",
       "    }\n",
       "\n",
       "    .dataframe tbody tr th {\n",
       "        vertical-align: top;\n",
       "    }\n",
       "\n",
       "    .dataframe thead th {\n",
       "        text-align: right;\n",
       "    }\n",
       "</style>\n",
       "<table border=\"1\" class=\"dataframe\">\n",
       "  <thead>\n",
       "    <tr style=\"text-align: right;\">\n",
       "      <th></th>\n",
       "      <th>region</th>\n",
       "      <th>year</th>\n",
       "      <th>manufacturer</th>\n",
       "      <th>model</th>\n",
       "      <th>condition</th>\n",
       "      <th>cylinders</th>\n",
       "      <th>fuel</th>\n",
       "      <th>odometer</th>\n",
       "      <th>title_status</th>\n",
       "      <th>transmission</th>\n",
       "      <th>drive</th>\n",
       "      <th>size</th>\n",
       "      <th>type</th>\n",
       "      <th>paint_color</th>\n",
       "      <th>state</th>\n",
       "    </tr>\n",
       "  </thead>\n",
       "  <tbody>\n",
       "    <tr>\n",
       "      <th>0</th>\n",
       "      <td>prescott</td>\n",
       "      <td>2017.0</td>\n",
       "      <td>ford</td>\n",
       "      <td>f-150</td>\n",
       "      <td>good</td>\n",
       "      <td>6 cylinders</td>\n",
       "      <td>gas</td>\n",
       "      <td>100000.0</td>\n",
       "      <td>clean</td>\n",
       "      <td>automatic</td>\n",
       "      <td>4wd</td>\n",
       "      <td>full-size</td>\n",
       "      <td>sedan</td>\n",
       "      <td>white</td>\n",
       "      <td>az</td>\n",
       "    </tr>\n",
       "    <tr>\n",
       "      <th>1</th>\n",
       "      <td>fayetteville</td>\n",
       "      <td>2017.0</td>\n",
       "      <td>ford</td>\n",
       "      <td>f-150</td>\n",
       "      <td>good</td>\n",
       "      <td>6 cylinders</td>\n",
       "      <td>gas</td>\n",
       "      <td>100000.0</td>\n",
       "      <td>clean</td>\n",
       "      <td>automatic</td>\n",
       "      <td>4wd</td>\n",
       "      <td>full-size</td>\n",
       "      <td>sedan</td>\n",
       "      <td>white</td>\n",
       "      <td>ar</td>\n",
       "    </tr>\n",
       "    <tr>\n",
       "      <th>2</th>\n",
       "      <td>florida keys</td>\n",
       "      <td>2017.0</td>\n",
       "      <td>ford</td>\n",
       "      <td>f-150</td>\n",
       "      <td>good</td>\n",
       "      <td>6 cylinders</td>\n",
       "      <td>gas</td>\n",
       "      <td>100000.0</td>\n",
       "      <td>clean</td>\n",
       "      <td>automatic</td>\n",
       "      <td>4wd</td>\n",
       "      <td>full-size</td>\n",
       "      <td>sedan</td>\n",
       "      <td>white</td>\n",
       "      <td>fl</td>\n",
       "    </tr>\n",
       "    <tr>\n",
       "      <th>3</th>\n",
       "      <td>worcester / central MA</td>\n",
       "      <td>2017.0</td>\n",
       "      <td>ford</td>\n",
       "      <td>f-150</td>\n",
       "      <td>good</td>\n",
       "      <td>6 cylinders</td>\n",
       "      <td>gas</td>\n",
       "      <td>100000.0</td>\n",
       "      <td>clean</td>\n",
       "      <td>automatic</td>\n",
       "      <td>4wd</td>\n",
       "      <td>full-size</td>\n",
       "      <td>sedan</td>\n",
       "      <td>white</td>\n",
       "      <td>ma</td>\n",
       "    </tr>\n",
       "    <tr>\n",
       "      <th>4</th>\n",
       "      <td>greensboro</td>\n",
       "      <td>2017.0</td>\n",
       "      <td>ford</td>\n",
       "      <td>f-150</td>\n",
       "      <td>good</td>\n",
       "      <td>6 cylinders</td>\n",
       "      <td>gas</td>\n",
       "      <td>100000.0</td>\n",
       "      <td>clean</td>\n",
       "      <td>automatic</td>\n",
       "      <td>4wd</td>\n",
       "      <td>full-size</td>\n",
       "      <td>sedan</td>\n",
       "      <td>white</td>\n",
       "      <td>nc</td>\n",
       "    </tr>\n",
       "  </tbody>\n",
       "</table>\n",
       "</div>"
      ],
      "text/plain": [
       "                   region    year manufacturer  model condition    cylinders  \\\n",
       "0                prescott  2017.0         ford  f-150      good  6 cylinders   \n",
       "1            fayetteville  2017.0         ford  f-150      good  6 cylinders   \n",
       "2            florida keys  2017.0         ford  f-150      good  6 cylinders   \n",
       "3  worcester / central MA  2017.0         ford  f-150      good  6 cylinders   \n",
       "4              greensboro  2017.0         ford  f-150      good  6 cylinders   \n",
       "\n",
       "  fuel  odometer title_status transmission drive       size   type  \\\n",
       "0  gas  100000.0        clean    automatic   4wd  full-size  sedan   \n",
       "1  gas  100000.0        clean    automatic   4wd  full-size  sedan   \n",
       "2  gas  100000.0        clean    automatic   4wd  full-size  sedan   \n",
       "3  gas  100000.0        clean    automatic   4wd  full-size  sedan   \n",
       "4  gas  100000.0        clean    automatic   4wd  full-size  sedan   \n",
       "\n",
       "  paint_color state  \n",
       "0       white    az  \n",
       "1       white    ar  \n",
       "2       white    fl  \n",
       "3       white    ma  \n",
       "4       white    nc  "
      ]
     },
     "execution_count": 47,
     "metadata": {},
     "output_type": "execute_result"
    }
   ],
   "source": [
    "X.head()"
   ]
  },
  {
   "cell_type": "code",
   "execution_count": 48,
   "metadata": {},
   "outputs": [
    {
     "data": {
      "text/plain": [
       "0     6000.0\n",
       "1    11900.0\n",
       "2    21000.0\n",
       "3     1500.0\n",
       "4     4900.0\n",
       "Name: price, dtype: float64"
      ]
     },
     "execution_count": 48,
     "metadata": {},
     "output_type": "execute_result"
    }
   ],
   "source": [
    "y.head()"
   ]
  },
  {
   "cell_type": "markdown",
   "metadata": {},
   "source": [
    "#### CatBoost Model (Gradient Boosting with Categorical Handling)"
   ]
  },
  {
   "cell_type": "code",
   "execution_count": 49,
   "metadata": {},
   "outputs": [],
   "source": [
    "# 0.7:0.3 train_test_split with random_state=1\n",
    "X1_train, X1_test, y1_train, y1_test = train_test_split(X, y, test_size=0.3, random_state=1)"
   ]
  },
  {
   "cell_type": "code",
   "execution_count": 50,
   "metadata": {
    "scrolled": true
   },
   "outputs": [],
   "source": [
    "# If you haven't installed catboost, then do so below:\n",
    "# pip install catboost\n",
    "# If you don't have the category_encoders, then you'll have to install it in the Anaconda prompt:\n",
    "# conda install -c conda-forge category_encoders"
   ]
  },
  {
   "cell_type": "code",
   "execution_count": 51,
   "metadata": {},
   "outputs": [],
   "source": [
    "# I will first try the CatBoost Model as I've read it also has an encoder for categorical columns.\n",
    "# This is best for time-series problems but also work fine for data with no time dependency.\n",
    "from catboost import CatBoostRegressor\n",
    "from category_encoders import CatBoostEncoder"
   ]
  },
  {
   "cell_type": "code",
   "execution_count": 52,
   "metadata": {},
   "outputs": [
    {
     "name": "stderr",
     "output_type": "stream",
     "text": [
      "C:\\Users\\Daniel Ho\\anaconda3\\lib\\site-packages\\category_encoders\\cat_boost.py:173: FutureWarning: In a future version, the Index constructor will not infer numeric dtypes when passed object-dtype sequences (matching Series behavior)\n",
      "  category = pd.Categorical(series)\n",
      "C:\\Users\\Daniel Ho\\anaconda3\\lib\\site-packages\\category_encoders\\cat_boost.py:173: FutureWarning: In a future version, the Index constructor will not infer numeric dtypes when passed object-dtype sequences (matching Series behavior)\n",
      "  category = pd.Categorical(series)\n"
     ]
    }
   ],
   "source": [
    "# Encoding...\n",
    "catEncoder = CatBoostEncoder(cols=X1_train.columns)\n",
    "X1_train_encoded = catEncoder.fit_transform(X1_train, y1_train)\n",
    "X1_test_encoded = catEncoder.transform(X1_test)"
   ]
  },
  {
   "cell_type": "code",
   "execution_count": 53,
   "metadata": {
    "scrolled": true
   },
   "outputs": [
    {
     "name": "stdout",
     "output_type": "stream",
     "text": [
      "0:\tlearn: 11740454.0511822\ttotal: 188ms\tremaining: 18.6s\n",
      "1:\tlearn: 11646647.4980237\ttotal: 212ms\tremaining: 10.4s\n",
      "2:\tlearn: 11556762.3927817\ttotal: 232ms\tremaining: 7.5s\n",
      "3:\tlearn: 11488452.4753658\ttotal: 258ms\tremaining: 6.2s\n",
      "4:\tlearn: 11405248.9854746\ttotal: 285ms\tremaining: 5.42s\n",
      "5:\tlearn: 11324508.3864741\ttotal: 310ms\tremaining: 4.86s\n",
      "6:\tlearn: 11244299.9842305\ttotal: 337ms\tremaining: 4.48s\n",
      "7:\tlearn: 11167503.3781927\ttotal: 364ms\tremaining: 4.19s\n",
      "8:\tlearn: 11094003.7036259\ttotal: 392ms\tremaining: 3.96s\n",
      "9:\tlearn: 11023609.4185369\ttotal: 424ms\tremaining: 3.81s\n",
      "10:\tlearn: 10956335.7068880\ttotal: 451ms\tremaining: 3.65s\n",
      "11:\tlearn: 10892027.6174311\ttotal: 473ms\tremaining: 3.47s\n",
      "12:\tlearn: 10830489.9679338\ttotal: 497ms\tremaining: 3.33s\n",
      "13:\tlearn: 10771704.2874302\ttotal: 522ms\tremaining: 3.21s\n",
      "14:\tlearn: 10668260.4313982\ttotal: 548ms\tremaining: 3.1s\n",
      "15:\tlearn: 10611438.1958654\ttotal: 571ms\tremaining: 3s\n",
      "16:\tlearn: 10568399.0771912\ttotal: 598ms\tremaining: 2.92s\n",
      "17:\tlearn: 10516073.4074975\ttotal: 625ms\tremaining: 2.85s\n",
      "18:\tlearn: 10466100.7726598\ttotal: 653ms\tremaining: 2.78s\n",
      "19:\tlearn: 10418376.2561713\ttotal: 677ms\tremaining: 2.71s\n",
      "20:\tlearn: 10372818.6901810\ttotal: 701ms\tremaining: 2.64s\n",
      "21:\tlearn: 10329328.4597302\ttotal: 723ms\tremaining: 2.56s\n",
      "22:\tlearn: 10226612.3519348\ttotal: 751ms\tremaining: 2.51s\n",
      "23:\tlearn: 10128196.1415102\ttotal: 778ms\tremaining: 2.46s\n",
      "24:\tlearn: 10085853.1938893\ttotal: 803ms\tremaining: 2.41s\n",
      "25:\tlearn: 10045451.7787418\ttotal: 834ms\tremaining: 2.37s\n",
      "26:\tlearn: 9949975.3715537\ttotal: 865ms\tremaining: 2.34s\n",
      "27:\tlearn: 9858447.0915428\ttotal: 890ms\tremaining: 2.29s\n",
      "28:\tlearn: 9770781.1053484\ttotal: 917ms\tremaining: 2.25s\n",
      "29:\tlearn: 9731067.5054896\ttotal: 945ms\tremaining: 2.2s\n",
      "30:\tlearn: 9693183.2985922\ttotal: 971ms\tremaining: 2.16s\n",
      "31:\tlearn: 9608439.2425027\ttotal: 998ms\tremaining: 2.12s\n",
      "32:\tlearn: 9572015.0550164\ttotal: 1.02s\tremaining: 2.07s\n",
      "33:\tlearn: 9537245.9170451\ttotal: 1.05s\tremaining: 2.03s\n",
      "34:\tlearn: 9504048.6453702\ttotal: 1.07s\tremaining: 1.99s\n",
      "35:\tlearn: 9472371.2994369\ttotal: 1.09s\tremaining: 1.94s\n",
      "36:\tlearn: 9442193.9300965\ttotal: 1.12s\tremaining: 1.9s\n",
      "37:\tlearn: 9413415.2206041\ttotal: 1.14s\tremaining: 1.87s\n",
      "38:\tlearn: 9385968.6352876\ttotal: 1.17s\tremaining: 1.83s\n",
      "39:\tlearn: 9302576.1981840\ttotal: 1.2s\tremaining: 1.8s\n",
      "40:\tlearn: 9222677.2086167\ttotal: 1.23s\tremaining: 1.76s\n",
      "41:\tlearn: 9146173.2986086\ttotal: 1.25s\tremaining: 1.73s\n",
      "42:\tlearn: 9132435.3741015\ttotal: 1.28s\tremaining: 1.7s\n",
      "43:\tlearn: 9105547.0227073\ttotal: 1.3s\tremaining: 1.66s\n",
      "44:\tlearn: 9031903.0466585\ttotal: 1.33s\tremaining: 1.62s\n",
      "45:\tlearn: 8961339.5840545\ttotal: 1.35s\tremaining: 1.59s\n",
      "46:\tlearn: 8935269.6540523\ttotal: 1.38s\tremaining: 1.55s\n",
      "47:\tlearn: 8867328.7139558\ttotal: 1.4s\tremaining: 1.52s\n",
      "48:\tlearn: 8842286.5027526\ttotal: 1.43s\tremaining: 1.48s\n",
      "49:\tlearn: 8818431.4882924\ttotal: 1.45s\tremaining: 1.45s\n",
      "50:\tlearn: 8804871.5638066\ttotal: 1.47s\tremaining: 1.42s\n",
      "51:\tlearn: 8782072.4244444\ttotal: 1.5s\tremaining: 1.39s\n",
      "52:\tlearn: 8738931.0624481\ttotal: 1.53s\tremaining: 1.35s\n",
      "53:\tlearn: 8725935.2476953\ttotal: 1.55s\tremaining: 1.32s\n",
      "54:\tlearn: 8704066.3980076\ttotal: 1.59s\tremaining: 1.3s\n",
      "55:\tlearn: 8640075.7901633\ttotal: 1.62s\tremaining: 1.27s\n",
      "56:\tlearn: 8619102.0867948\ttotal: 1.65s\tremaining: 1.25s\n",
      "57:\tlearn: 8599109.3281026\ttotal: 1.68s\tremaining: 1.22s\n",
      "58:\tlearn: 8586556.7162883\ttotal: 1.7s\tremaining: 1.18s\n",
      "59:\tlearn: 8567446.9455533\ttotal: 1.73s\tremaining: 1.15s\n",
      "60:\tlearn: 8505643.6807948\ttotal: 1.76s\tremaining: 1.12s\n",
      "61:\tlearn: 8446441.3794190\ttotal: 1.78s\tremaining: 1.09s\n",
      "62:\tlearn: 8428007.5589111\ttotal: 1.81s\tremaining: 1.06s\n",
      "63:\tlearn: 8410441.7691431\ttotal: 1.83s\tremaining: 1.03s\n",
      "64:\tlearn: 8393721.0549517\ttotal: 1.86s\tremaining: 1000ms\n",
      "65:\tlearn: 8381500.5040921\ttotal: 1.88s\tremaining: 970ms\n",
      "66:\tlearn: 8369894.7037838\ttotal: 1.91s\tremaining: 941ms\n",
      "67:\tlearn: 8353918.0668695\ttotal: 1.94s\tremaining: 911ms\n",
      "68:\tlearn: 8342835.3719921\ttotal: 1.96s\tremaining: 882ms\n",
      "69:\tlearn: 8285396.5902972\ttotal: 1.99s\tremaining: 854ms\n",
      "70:\tlearn: 8230497.0083867\ttotal: 2.02s\tremaining: 825ms\n",
      "71:\tlearn: 8215046.2519787\ttotal: 2.05s\tremaining: 798ms\n",
      "72:\tlearn: 8162348.9119801\ttotal: 2.08s\tremaining: 770ms\n",
      "73:\tlearn: 8151557.5159743\ttotal: 2.11s\tremaining: 742ms\n",
      "74:\tlearn: 8101100.8236772\ttotal: 2.14s\tremaining: 715ms\n",
      "75:\tlearn: 8090754.6213687\ttotal: 2.17s\tremaining: 687ms\n",
      "76:\tlearn: 7996779.4015121\ttotal: 2.21s\tremaining: 659ms\n",
      "77:\tlearn: 7986823.2473097\ttotal: 2.24s\tremaining: 632ms\n",
      "78:\tlearn: 7971702.0764792\ttotal: 2.27s\tremaining: 604ms\n",
      "79:\tlearn: 7922674.6252543\ttotal: 2.3s\tremaining: 576ms\n",
      "80:\tlearn: 7875819.0532087\ttotal: 2.34s\tremaining: 548ms\n",
      "81:\tlearn: 7866214.8680719\ttotal: 2.37s\tremaining: 521ms\n",
      "82:\tlearn: 7821301.0660861\ttotal: 2.41s\tremaining: 494ms\n",
      "83:\tlearn: 7806602.3814674\ttotal: 2.45s\tremaining: 466ms\n",
      "84:\tlearn: 7792567.8372501\ttotal: 2.49s\tremaining: 439ms\n",
      "85:\tlearn: 7699795.5789675\ttotal: 2.52s\tremaining: 411ms\n",
      "86:\tlearn: 7686322.2242943\ttotal: 2.56s\tremaining: 383ms\n",
      "87:\tlearn: 7627609.3309834\ttotal: 2.6s\tremaining: 355ms\n",
      "88:\tlearn: 7620156.0647100\ttotal: 2.63s\tremaining: 326ms\n",
      "89:\tlearn: 7532957.8362548\ttotal: 2.67s\tremaining: 297ms\n",
      "90:\tlearn: 7449126.2558795\ttotal: 2.7s\tremaining: 267ms\n",
      "91:\tlearn: 7435865.3014447\ttotal: 2.74s\tremaining: 238ms\n",
      "92:\tlearn: 7423212.5368737\ttotal: 2.77s\tremaining: 209ms\n",
      "93:\tlearn: 7359088.3903065\ttotal: 2.81s\tremaining: 179ms\n",
      "94:\tlearn: 7346955.9080356\ttotal: 2.85s\tremaining: 150ms\n",
      "95:\tlearn: 7301249.6817735\ttotal: 2.88s\tremaining: 120ms\n",
      "96:\tlearn: 7289623.0360182\ttotal: 2.92s\tremaining: 90.3ms\n",
      "97:\tlearn: 7278556.5409816\ttotal: 2.96s\tremaining: 60.4ms\n",
      "98:\tlearn: 7269079.4178669\ttotal: 3s\tremaining: 30.3ms\n",
      "99:\tlearn: 7258545.3137049\ttotal: 3.04s\tremaining: 0us\n"
     ]
    },
    {
     "data": {
      "text/plain": [
       "<catboost.core.CatBoostRegressor at 0x28215d374c0>"
      ]
     },
     "execution_count": 53,
     "metadata": {},
     "output_type": "execute_result"
    }
   ],
   "source": [
    "# Modeling...\n",
    "catModel = CatBoostRegressor(iterations=100, depth=6, learning_rate=0.1, random_seed=1)\n",
    "catModel.fit(X1_train_encoded, y1_train)"
   ]
  },
  {
   "cell_type": "code",
   "execution_count": 54,
   "metadata": {},
   "outputs": [
    {
     "name": "stdout",
     "output_type": "stream",
     "text": [
      "CatBoost RMSE: 12952574.11229261\n",
      "CatBoost MAE: 110839.4799071168\n"
     ]
    }
   ],
   "source": [
    "# Cross-Validations\n",
    "rmse1 = np.sqrt(mean_squared_error(y1_test, catModel.predict(X1_test_encoded)))\n",
    "mae1 = mean_absolute_error(y1_test, catModel.predict(X1_test_encoded))\n",
    "print(f'CatBoost RMSE: {rmse1}')\n",
    "print(f'CatBoost MAE: {mae1}')"
   ]
  },
  {
   "cell_type": "code",
   "execution_count": 55,
   "metadata": {},
   "outputs": [],
   "source": [
    "# Feature-Importance\n",
    "# I need to pool the X1_test_encoded data to put it in the get_feature_importance.\n",
    "from catboost import Pool"
   ]
  },
  {
   "cell_type": "code",
   "execution_count": 56,
   "metadata": {},
   "outputs": [],
   "source": [
    "# Pooling...\n",
    "X1_test_pool = Pool(data=X1_test_encoded, label=y1_test)"
   ]
  },
  {
   "cell_type": "code",
   "execution_count": 57,
   "metadata": {},
   "outputs": [
    {
     "data": {
      "text/plain": [
       "[('condition', 31.57577289850196),\n",
       " ('region', 27.77035549444559),\n",
       " ('odometer', 23.579678196927983),\n",
       " ('manufacturer', 8.4300302706063),\n",
       " ('drive', 7.654030268859842),\n",
       " ('year', 0.44383076971668983),\n",
       " ('model', 0.1738971898467104),\n",
       " ('state', 0.08082816325835775),\n",
       " ('cylinders', 0.07407076056212664),\n",
       " ('transmission', 0.05148216573459162),\n",
       " ('type', 0.04205382466460264),\n",
       " ('paint_color', 0.037299622888388215),\n",
       " ('fuel', 0.03615891244521674),\n",
       " ('title_status', 0.025907775077443126),\n",
       " ('size', 0.024603686464210062)]"
      ]
     },
     "execution_count": 57,
     "metadata": {},
     "output_type": "execute_result"
    }
   ],
   "source": [
    "feature_importance1 = catModel.get_feature_importance(data=X1_test_pool, type=\"PredictionValuesChange\")\n",
    "feature_importance1_dict = dict(zip(X.columns, feature_importance1))\n",
    "sorted_features1 = sorted(feature_importance1_dict.items(), key=lambda x: x[1], reverse=True)\n",
    "sorted_features1"
   ]
  },
  {
   "cell_type": "code",
   "execution_count": 58,
   "metadata": {},
   "outputs": [],
   "source": [
    "# Interpreting the result:\n",
    "\n",
    "# Although I don't know what's the threshold for the RMSE and MAE to be considered as having a big prediction error,\n",
    "# I'm going to presume that CatBoost has a high prediction error.\n",
    "\n",
    "# CatBoost claims that columns odometer, condition, and year would have the most impact on column price\n",
    "# based on the testing data."
   ]
  },
  {
   "cell_type": "markdown",
   "metadata": {},
   "source": [
    "#### Ridge Model (Linear)"
   ]
  },
  {
   "cell_type": "code",
   "execution_count": 59,
   "metadata": {},
   "outputs": [],
   "source": [
    "from sklearn.linear_model import Ridge"
   ]
  },
  {
   "cell_type": "code",
   "execution_count": 60,
   "metadata": {},
   "outputs": [
    {
     "data": {
      "text/html": [
       "<style>#sk-container-id-1 {color: black;background-color: white;}#sk-container-id-1 pre{padding: 0;}#sk-container-id-1 div.sk-toggleable {background-color: white;}#sk-container-id-1 label.sk-toggleable__label {cursor: pointer;display: block;width: 100%;margin-bottom: 0;padding: 0.3em;box-sizing: border-box;text-align: center;}#sk-container-id-1 label.sk-toggleable__label-arrow:before {content: \"▸\";float: left;margin-right: 0.25em;color: #696969;}#sk-container-id-1 label.sk-toggleable__label-arrow:hover:before {color: black;}#sk-container-id-1 div.sk-estimator:hover label.sk-toggleable__label-arrow:before {color: black;}#sk-container-id-1 div.sk-toggleable__content {max-height: 0;max-width: 0;overflow: hidden;text-align: left;background-color: #f0f8ff;}#sk-container-id-1 div.sk-toggleable__content pre {margin: 0.2em;color: black;border-radius: 0.25em;background-color: #f0f8ff;}#sk-container-id-1 input.sk-toggleable__control:checked~div.sk-toggleable__content {max-height: 200px;max-width: 100%;overflow: auto;}#sk-container-id-1 input.sk-toggleable__control:checked~label.sk-toggleable__label-arrow:before {content: \"▾\";}#sk-container-id-1 div.sk-estimator input.sk-toggleable__control:checked~label.sk-toggleable__label {background-color: #d4ebff;}#sk-container-id-1 div.sk-label input.sk-toggleable__control:checked~label.sk-toggleable__label {background-color: #d4ebff;}#sk-container-id-1 input.sk-hidden--visually {border: 0;clip: rect(1px 1px 1px 1px);clip: rect(1px, 1px, 1px, 1px);height: 1px;margin: -1px;overflow: hidden;padding: 0;position: absolute;width: 1px;}#sk-container-id-1 div.sk-estimator {font-family: monospace;background-color: #f0f8ff;border: 1px dotted black;border-radius: 0.25em;box-sizing: border-box;margin-bottom: 0.5em;}#sk-container-id-1 div.sk-estimator:hover {background-color: #d4ebff;}#sk-container-id-1 div.sk-parallel-item::after {content: \"\";width: 100%;border-bottom: 1px solid gray;flex-grow: 1;}#sk-container-id-1 div.sk-label:hover label.sk-toggleable__label {background-color: #d4ebff;}#sk-container-id-1 div.sk-serial::before {content: \"\";position: absolute;border-left: 1px solid gray;box-sizing: border-box;top: 0;bottom: 0;left: 50%;z-index: 0;}#sk-container-id-1 div.sk-serial {display: flex;flex-direction: column;align-items: center;background-color: white;padding-right: 0.2em;padding-left: 0.2em;position: relative;}#sk-container-id-1 div.sk-item {position: relative;z-index: 1;}#sk-container-id-1 div.sk-parallel {display: flex;align-items: stretch;justify-content: center;background-color: white;position: relative;}#sk-container-id-1 div.sk-item::before, #sk-container-id-1 div.sk-parallel-item::before {content: \"\";position: absolute;border-left: 1px solid gray;box-sizing: border-box;top: 0;bottom: 0;left: 50%;z-index: -1;}#sk-container-id-1 div.sk-parallel-item {display: flex;flex-direction: column;z-index: 1;position: relative;background-color: white;}#sk-container-id-1 div.sk-parallel-item:first-child::after {align-self: flex-end;width: 50%;}#sk-container-id-1 div.sk-parallel-item:last-child::after {align-self: flex-start;width: 50%;}#sk-container-id-1 div.sk-parallel-item:only-child::after {width: 0;}#sk-container-id-1 div.sk-dashed-wrapped {border: 1px dashed gray;margin: 0 0.4em 0.5em 0.4em;box-sizing: border-box;padding-bottom: 0.4em;background-color: white;}#sk-container-id-1 div.sk-label label {font-family: monospace;font-weight: bold;display: inline-block;line-height: 1.2em;}#sk-container-id-1 div.sk-label-container {text-align: center;}#sk-container-id-1 div.sk-container {/* jupyter's `normalize.less` sets `[hidden] { display: none; }` but bootstrap.min.css set `[hidden] { display: none !important; }` so we also need the `!important` here to be able to override the default hidden behavior on the sphinx rendered scikit-learn.org. See: https://github.com/scikit-learn/scikit-learn/issues/21755 */display: inline-block !important;position: relative;}#sk-container-id-1 div.sk-text-repr-fallback {display: none;}</style><div id=\"sk-container-id-1\" class=\"sk-top-container\"><div class=\"sk-text-repr-fallback\"><pre>Ridge()</pre><b>In a Jupyter environment, please rerun this cell to show the HTML representation or trust the notebook. <br />On GitHub, the HTML representation is unable to render, please try loading this page with nbviewer.org.</b></div><div class=\"sk-container\" hidden><div class=\"sk-item\"><div class=\"sk-estimator sk-toggleable\"><input class=\"sk-toggleable__control sk-hidden--visually\" id=\"sk-estimator-id-1\" type=\"checkbox\" checked><label for=\"sk-estimator-id-1\" class=\"sk-toggleable__label sk-toggleable__label-arrow\">Ridge</label><div class=\"sk-toggleable__content\"><pre>Ridge()</pre></div></div></div></div></div>"
      ],
      "text/plain": [
       "Ridge()"
      ]
     },
     "execution_count": 60,
     "metadata": {},
     "output_type": "execute_result"
    }
   ],
   "source": [
    "# It would seem that I can fit the CatBoost encoded training data in Ridge()\n",
    "# The alpha shall be default, i.e. 1.\n",
    "ridge_model = Ridge()\n",
    "ridge_model.fit(X1_train_encoded, y1_train)"
   ]
  },
  {
   "cell_type": "code",
   "execution_count": 61,
   "metadata": {},
   "outputs": [
    {
     "name": "stdout",
     "output_type": "stream",
     "text": [
      " Ridge RMSE: 12949314.742714988\n",
      " Ridge MAE: 132233.37016417948\n"
     ]
    }
   ],
   "source": [
    "# Cross-Validating...\n",
    "rmse2 = np.sqrt( mean_squared_error(y1_test, ridge_model.predict(X1_test_encoded)) )\n",
    "print(f' Ridge RMSE: {rmse2}')\n",
    "mae2 = mean_absolute_error(y1_test, ridge_model.predict(X1_test_encoded))\n",
    "print(f' Ridge MAE: {mae2}')"
   ]
  },
  {
   "cell_type": "code",
   "execution_count": 62,
   "metadata": {},
   "outputs": [
    {
     "data": {
      "text/plain": [
       "[('size', 0.7701015357231026),\n",
       " ('drive', 0.38688608286957415),\n",
       " ('year', 0.3368658926048092),\n",
       " ('type', 0.29242236459933113),\n",
       " ('condition', 0.2669470588540632),\n",
       " ('fuel', 0.264660499128952),\n",
       " ('paint_color', 0.2073448648540695),\n",
       " ('title_status', 0.1865472573734877),\n",
       " ('cylinders', 0.17402713595567165),\n",
       " ('state', 0.11035427255352935),\n",
       " ('transmission', 0.09826494388356442),\n",
       " ('manufacturer', 0.08741999848963822),\n",
       " ('odometer', 0.006580822716949554),\n",
       " ('region', 0.002394631901056735),\n",
       " ('model', 0.0008897520839797139)]"
      ]
     },
     "execution_count": 62,
     "metadata": {},
     "output_type": "execute_result"
    }
   ],
   "source": [
    "# Feature-Importance\n",
    "# To get the feature importance, I will just simply calculate the absolute value of the coefficients\n",
    "feature_importance2 = np.abs(ridge_model.coef_)\n",
    "feature_importance2_dict = dict(zip(X.columns, feature_importance2))\n",
    "sorted_features2 = sorted(feature_importance2_dict.items(), key=lambda x: x[1], reverse=True)\n",
    "sorted_features2"
   ]
  },
  {
   "cell_type": "code",
   "execution_count": 63,
   "metadata": {},
   "outputs": [],
   "source": [
    "# Interpreting the result:\n",
    "\n",
    "# The Ridge Model has a slightly higher prediction error than the Catboost.\n",
    "# The features size, drive, and year are the ones that mostly impact the feature price."
   ]
  },
  {
   "cell_type": "markdown",
   "metadata": {},
   "source": [
    "#### Lasso Regression Model (Linear)"
   ]
  },
  {
   "cell_type": "code",
   "execution_count": 64,
   "metadata": {},
   "outputs": [],
   "source": [
    "from sklearn.linear_model import Lasso"
   ]
  },
  {
   "cell_type": "code",
   "execution_count": 65,
   "metadata": {},
   "outputs": [
    {
     "data": {
      "text/html": [
       "<style>#sk-container-id-2 {color: black;background-color: white;}#sk-container-id-2 pre{padding: 0;}#sk-container-id-2 div.sk-toggleable {background-color: white;}#sk-container-id-2 label.sk-toggleable__label {cursor: pointer;display: block;width: 100%;margin-bottom: 0;padding: 0.3em;box-sizing: border-box;text-align: center;}#sk-container-id-2 label.sk-toggleable__label-arrow:before {content: \"▸\";float: left;margin-right: 0.25em;color: #696969;}#sk-container-id-2 label.sk-toggleable__label-arrow:hover:before {color: black;}#sk-container-id-2 div.sk-estimator:hover label.sk-toggleable__label-arrow:before {color: black;}#sk-container-id-2 div.sk-toggleable__content {max-height: 0;max-width: 0;overflow: hidden;text-align: left;background-color: #f0f8ff;}#sk-container-id-2 div.sk-toggleable__content pre {margin: 0.2em;color: black;border-radius: 0.25em;background-color: #f0f8ff;}#sk-container-id-2 input.sk-toggleable__control:checked~div.sk-toggleable__content {max-height: 200px;max-width: 100%;overflow: auto;}#sk-container-id-2 input.sk-toggleable__control:checked~label.sk-toggleable__label-arrow:before {content: \"▾\";}#sk-container-id-2 div.sk-estimator input.sk-toggleable__control:checked~label.sk-toggleable__label {background-color: #d4ebff;}#sk-container-id-2 div.sk-label input.sk-toggleable__control:checked~label.sk-toggleable__label {background-color: #d4ebff;}#sk-container-id-2 input.sk-hidden--visually {border: 0;clip: rect(1px 1px 1px 1px);clip: rect(1px, 1px, 1px, 1px);height: 1px;margin: -1px;overflow: hidden;padding: 0;position: absolute;width: 1px;}#sk-container-id-2 div.sk-estimator {font-family: monospace;background-color: #f0f8ff;border: 1px dotted black;border-radius: 0.25em;box-sizing: border-box;margin-bottom: 0.5em;}#sk-container-id-2 div.sk-estimator:hover {background-color: #d4ebff;}#sk-container-id-2 div.sk-parallel-item::after {content: \"\";width: 100%;border-bottom: 1px solid gray;flex-grow: 1;}#sk-container-id-2 div.sk-label:hover label.sk-toggleable__label {background-color: #d4ebff;}#sk-container-id-2 div.sk-serial::before {content: \"\";position: absolute;border-left: 1px solid gray;box-sizing: border-box;top: 0;bottom: 0;left: 50%;z-index: 0;}#sk-container-id-2 div.sk-serial {display: flex;flex-direction: column;align-items: center;background-color: white;padding-right: 0.2em;padding-left: 0.2em;position: relative;}#sk-container-id-2 div.sk-item {position: relative;z-index: 1;}#sk-container-id-2 div.sk-parallel {display: flex;align-items: stretch;justify-content: center;background-color: white;position: relative;}#sk-container-id-2 div.sk-item::before, #sk-container-id-2 div.sk-parallel-item::before {content: \"\";position: absolute;border-left: 1px solid gray;box-sizing: border-box;top: 0;bottom: 0;left: 50%;z-index: -1;}#sk-container-id-2 div.sk-parallel-item {display: flex;flex-direction: column;z-index: 1;position: relative;background-color: white;}#sk-container-id-2 div.sk-parallel-item:first-child::after {align-self: flex-end;width: 50%;}#sk-container-id-2 div.sk-parallel-item:last-child::after {align-self: flex-start;width: 50%;}#sk-container-id-2 div.sk-parallel-item:only-child::after {width: 0;}#sk-container-id-2 div.sk-dashed-wrapped {border: 1px dashed gray;margin: 0 0.4em 0.5em 0.4em;box-sizing: border-box;padding-bottom: 0.4em;background-color: white;}#sk-container-id-2 div.sk-label label {font-family: monospace;font-weight: bold;display: inline-block;line-height: 1.2em;}#sk-container-id-2 div.sk-label-container {text-align: center;}#sk-container-id-2 div.sk-container {/* jupyter's `normalize.less` sets `[hidden] { display: none; }` but bootstrap.min.css set `[hidden] { display: none !important; }` so we also need the `!important` here to be able to override the default hidden behavior on the sphinx rendered scikit-learn.org. See: https://github.com/scikit-learn/scikit-learn/issues/21755 */display: inline-block !important;position: relative;}#sk-container-id-2 div.sk-text-repr-fallback {display: none;}</style><div id=\"sk-container-id-2\" class=\"sk-top-container\"><div class=\"sk-text-repr-fallback\"><pre>Lasso()</pre><b>In a Jupyter environment, please rerun this cell to show the HTML representation or trust the notebook. <br />On GitHub, the HTML representation is unable to render, please try loading this page with nbviewer.org.</b></div><div class=\"sk-container\" hidden><div class=\"sk-item\"><div class=\"sk-estimator sk-toggleable\"><input class=\"sk-toggleable__control sk-hidden--visually\" id=\"sk-estimator-id-2\" type=\"checkbox\" checked><label for=\"sk-estimator-id-2\" class=\"sk-toggleable__label sk-toggleable__label-arrow\">Lasso</label><div class=\"sk-toggleable__content\"><pre>Lasso()</pre></div></div></div></div></div>"
      ],
      "text/plain": [
       "Lasso()"
      ]
     },
     "execution_count": 65,
     "metadata": {},
     "output_type": "execute_result"
    }
   ],
   "source": [
    "# Lasso Model\n",
    "# I will use CatBoost Encoded Features onto Lasso.\n",
    "lasso_model = Lasso()\n",
    "lasso_model.fit(X1_train_encoded, y1_train)"
   ]
  },
  {
   "cell_type": "code",
   "execution_count": 66,
   "metadata": {},
   "outputs": [
    {
     "name": "stdout",
     "output_type": "stream",
     "text": [
      "Lasso RMSE: 12949314.742715005\n",
      "Lasso MAE: 132233.37015878098\n"
     ]
    }
   ],
   "source": [
    "# Cross-Validating\n",
    "rmse3 = np.sqrt( mean_squared_error(y1_test, lasso_model.predict(X1_test_encoded)) )\n",
    "print(f'Lasso RMSE: {rmse3}')\n",
    "mae3 = mean_absolute_error(y1_test, lasso_model.predict(X1_test_encoded))\n",
    "print(f'Lasso MAE: {mae3}')"
   ]
  },
  {
   "cell_type": "code",
   "execution_count": 67,
   "metadata": {},
   "outputs": [
    {
     "data": {
      "text/plain": [
       "[('size', -0.7701015355082002),\n",
       " ('drive', 0.38688608122868823),\n",
       " ('year', 0.33686589259995325),\n",
       " ('type', 0.2924223638669513),\n",
       " ('condition', 0.26694705877028496),\n",
       " ('fuel', -0.26466049895430316),\n",
       " ('paint_color', -0.20734486481878545),\n",
       " ('title_status', -0.18654725304987527),\n",
       " ('cylinders', -0.174027135207583),\n",
       " ('state', -0.11035427253595739),\n",
       " ('transmission', 0.09826494318556192),\n",
       " ('manufacturer', 0.08741999832761208),\n",
       " ('odometer', -0.006580822714838831),\n",
       " ('region', -0.002394631900434261),\n",
       " ('model', -0.0008897520833641325)]"
      ]
     },
     "execution_count": 67,
     "metadata": {},
     "output_type": "execute_result"
    }
   ],
   "source": [
    "# Feature-Importance\n",
    "feature_importance3_dict = dict(zip(X.columns, lasso_model.coef_))\n",
    "sorted_features3 = sorted(feature_importance3_dict.items(), key=lambda x: abs(x[1]), reverse=True)\n",
    "sorted_features3"
   ]
  },
  {
   "cell_type": "code",
   "execution_count": 68,
   "metadata": {},
   "outputs": [],
   "source": [
    "# Interpreting the result:\n",
    "\n",
    "# The Lasso Model has the exact same prediction error as the Ridge Model.\n",
    "# It also deemed size, drive, and year to be the most important features to the feature price."
   ]
  },
  {
   "cell_type": "markdown",
   "metadata": {},
   "source": [
    "#### RandomForestRegressor (Ensemble Learning and Averaging)"
   ]
  },
  {
   "cell_type": "code",
   "execution_count": 69,
   "metadata": {},
   "outputs": [],
   "source": [
    "from sklearn.ensemble import RandomForestRegressor"
   ]
  },
  {
   "cell_type": "code",
   "execution_count": 70,
   "metadata": {},
   "outputs": [],
   "source": [
    "# After some time-consuming experimentations with RandomForestRegressor\n",
    "# in which I deleted because they were unnecessary convoluted in the end,\n",
    "# I intuitively believe that RandomForestRegressor logarithmically gets more accurate,\n",
    "# but exponentially gets more computationally intensive as you increase the hyperparameter n_estimators."
   ]
  },
  {
   "cell_type": "code",
   "execution_count": 71,
   "metadata": {},
   "outputs": [
    {
     "data": {
      "text/html": [
       "<style>#sk-container-id-3 {color: black;background-color: white;}#sk-container-id-3 pre{padding: 0;}#sk-container-id-3 div.sk-toggleable {background-color: white;}#sk-container-id-3 label.sk-toggleable__label {cursor: pointer;display: block;width: 100%;margin-bottom: 0;padding: 0.3em;box-sizing: border-box;text-align: center;}#sk-container-id-3 label.sk-toggleable__label-arrow:before {content: \"▸\";float: left;margin-right: 0.25em;color: #696969;}#sk-container-id-3 label.sk-toggleable__label-arrow:hover:before {color: black;}#sk-container-id-3 div.sk-estimator:hover label.sk-toggleable__label-arrow:before {color: black;}#sk-container-id-3 div.sk-toggleable__content {max-height: 0;max-width: 0;overflow: hidden;text-align: left;background-color: #f0f8ff;}#sk-container-id-3 div.sk-toggleable__content pre {margin: 0.2em;color: black;border-radius: 0.25em;background-color: #f0f8ff;}#sk-container-id-3 input.sk-toggleable__control:checked~div.sk-toggleable__content {max-height: 200px;max-width: 100%;overflow: auto;}#sk-container-id-3 input.sk-toggleable__control:checked~label.sk-toggleable__label-arrow:before {content: \"▾\";}#sk-container-id-3 div.sk-estimator input.sk-toggleable__control:checked~label.sk-toggleable__label {background-color: #d4ebff;}#sk-container-id-3 div.sk-label input.sk-toggleable__control:checked~label.sk-toggleable__label {background-color: #d4ebff;}#sk-container-id-3 input.sk-hidden--visually {border: 0;clip: rect(1px 1px 1px 1px);clip: rect(1px, 1px, 1px, 1px);height: 1px;margin: -1px;overflow: hidden;padding: 0;position: absolute;width: 1px;}#sk-container-id-3 div.sk-estimator {font-family: monospace;background-color: #f0f8ff;border: 1px dotted black;border-radius: 0.25em;box-sizing: border-box;margin-bottom: 0.5em;}#sk-container-id-3 div.sk-estimator:hover {background-color: #d4ebff;}#sk-container-id-3 div.sk-parallel-item::after {content: \"\";width: 100%;border-bottom: 1px solid gray;flex-grow: 1;}#sk-container-id-3 div.sk-label:hover label.sk-toggleable__label {background-color: #d4ebff;}#sk-container-id-3 div.sk-serial::before {content: \"\";position: absolute;border-left: 1px solid gray;box-sizing: border-box;top: 0;bottom: 0;left: 50%;z-index: 0;}#sk-container-id-3 div.sk-serial {display: flex;flex-direction: column;align-items: center;background-color: white;padding-right: 0.2em;padding-left: 0.2em;position: relative;}#sk-container-id-3 div.sk-item {position: relative;z-index: 1;}#sk-container-id-3 div.sk-parallel {display: flex;align-items: stretch;justify-content: center;background-color: white;position: relative;}#sk-container-id-3 div.sk-item::before, #sk-container-id-3 div.sk-parallel-item::before {content: \"\";position: absolute;border-left: 1px solid gray;box-sizing: border-box;top: 0;bottom: 0;left: 50%;z-index: -1;}#sk-container-id-3 div.sk-parallel-item {display: flex;flex-direction: column;z-index: 1;position: relative;background-color: white;}#sk-container-id-3 div.sk-parallel-item:first-child::after {align-self: flex-end;width: 50%;}#sk-container-id-3 div.sk-parallel-item:last-child::after {align-self: flex-start;width: 50%;}#sk-container-id-3 div.sk-parallel-item:only-child::after {width: 0;}#sk-container-id-3 div.sk-dashed-wrapped {border: 1px dashed gray;margin: 0 0.4em 0.5em 0.4em;box-sizing: border-box;padding-bottom: 0.4em;background-color: white;}#sk-container-id-3 div.sk-label label {font-family: monospace;font-weight: bold;display: inline-block;line-height: 1.2em;}#sk-container-id-3 div.sk-label-container {text-align: center;}#sk-container-id-3 div.sk-container {/* jupyter's `normalize.less` sets `[hidden] { display: none; }` but bootstrap.min.css set `[hidden] { display: none !important; }` so we also need the `!important` here to be able to override the default hidden behavior on the sphinx rendered scikit-learn.org. See: https://github.com/scikit-learn/scikit-learn/issues/21755 */display: inline-block !important;position: relative;}#sk-container-id-3 div.sk-text-repr-fallback {display: none;}</style><div id=\"sk-container-id-3\" class=\"sk-top-container\"><div class=\"sk-text-repr-fallback\"><pre>RandomForestRegressor(n_estimators=5, random_state=1)</pre><b>In a Jupyter environment, please rerun this cell to show the HTML representation or trust the notebook. <br />On GitHub, the HTML representation is unable to render, please try loading this page with nbviewer.org.</b></div><div class=\"sk-container\" hidden><div class=\"sk-item\"><div class=\"sk-estimator sk-toggleable\"><input class=\"sk-toggleable__control sk-hidden--visually\" id=\"sk-estimator-id-3\" type=\"checkbox\" checked><label for=\"sk-estimator-id-3\" class=\"sk-toggleable__label sk-toggleable__label-arrow\">RandomForestRegressor</label><div class=\"sk-toggleable__content\"><pre>RandomForestRegressor(n_estimators=5, random_state=1)</pre></div></div></div></div></div>"
      ],
      "text/plain": [
       "RandomForestRegressor(n_estimators=5, random_state=1)"
      ]
     },
     "execution_count": 71,
     "metadata": {},
     "output_type": "execute_result"
    }
   ],
   "source": [
    "# Thus, to balance between accuracy and performance, I chose n_estimators=5\n",
    "# Modeling... with CatBoost Encoded Dataset\n",
    "rf_model = RandomForestRegressor(n_estimators=5, random_state=1)\n",
    "rf_model.fit(X1_train_encoded, y1_train)"
   ]
  },
  {
   "cell_type": "code",
   "execution_count": 72,
   "metadata": {},
   "outputs": [
    {
     "name": "stdout",
     "output_type": "stream",
     "text": [
      "Random Forest RMSE: 12949530.86026673\n",
      "Random Forest MAE: 75679.11804254125\n"
     ]
    }
   ],
   "source": [
    "# Cross-Validating\n",
    "y1_forest_pred = rf_model.predict(X1_test_encoded)\n",
    "rmse4 = np.sqrt( mean_squared_error(y1_test, y1_forest_pred) )\n",
    "print(f'Random Forest RMSE: {rmse4}')\n",
    "mae4 = mean_absolute_error(y1_test, y1_forest_pred)\n",
    "print(f'Random Forest MAE: {mae4}')"
   ]
  },
  {
   "cell_type": "code",
   "execution_count": 73,
   "metadata": {
    "scrolled": true
   },
   "outputs": [
    {
     "data": {
      "text/plain": [
       "[('paint_color', 0.653616460266444),\n",
       " ('condition', 0.1429206636887926),\n",
       " ('year', 0.14208097065814515),\n",
       " ('transmission', 0.027670388424446628),\n",
       " ('size', 0.02387666371483006),\n",
       " ('title_status', 0.007128941406713737),\n",
       " ('region', 0.0009523281577751948),\n",
       " ('state', 0.0007072111812608134),\n",
       " ('drive', 0.00045955348955468116),\n",
       " ('cylinders', 0.00036785731012982983),\n",
       " ('odometer', 0.00016592885163801318),\n",
       " ('model', 4.092944784597258e-05),\n",
       " ('fuel', 1.1805519953067311e-05),\n",
       " ('manufacturer', 1.6512326022919492e-07),\n",
       " ('type', 1.327592100439022e-07)]"
      ]
     },
     "execution_count": 73,
     "metadata": {},
     "output_type": "execute_result"
    }
   ],
   "source": [
    "# Feature-Importance\n",
    "feature_importance4_dict = dict(zip(X.columns, rf_model.feature_importances_))\n",
    "sorted_features4 = sorted(feature_importance4_dict.items(), key=lambda x: x[1], reverse=True)\n",
    "sorted_features4"
   ]
  },
  {
   "cell_type": "code",
   "execution_count": 74,
   "metadata": {},
   "outputs": [],
   "source": [
    "# Interpreting the result:\n",
    "\n",
    "# The RandomForestRegressor's MAE is significantly smaller than the MAES of the above models.\n",
    "# Its most impactful features are paint_color, year, and condition."
   ]
  },
  {
   "cell_type": "markdown",
   "metadata": {},
   "source": [
    "#### XGBoost Model (Gradient Boosting with Regularization)"
   ]
  },
  {
   "cell_type": "code",
   "execution_count": 75,
   "metadata": {},
   "outputs": [],
   "source": [
    "# You need to install xgboost if you haven't already using the code below:\n",
    "# pip install xgboost"
   ]
  },
  {
   "cell_type": "code",
   "execution_count": 76,
   "metadata": {},
   "outputs": [],
   "source": [
    "import xgboost as xgb"
   ]
  },
  {
   "cell_type": "code",
   "execution_count": 77,
   "metadata": {
    "scrolled": true
   },
   "outputs": [
    {
     "data": {
      "text/html": [
       "<style>#sk-container-id-4 {color: black;background-color: white;}#sk-container-id-4 pre{padding: 0;}#sk-container-id-4 div.sk-toggleable {background-color: white;}#sk-container-id-4 label.sk-toggleable__label {cursor: pointer;display: block;width: 100%;margin-bottom: 0;padding: 0.3em;box-sizing: border-box;text-align: center;}#sk-container-id-4 label.sk-toggleable__label-arrow:before {content: \"▸\";float: left;margin-right: 0.25em;color: #696969;}#sk-container-id-4 label.sk-toggleable__label-arrow:hover:before {color: black;}#sk-container-id-4 div.sk-estimator:hover label.sk-toggleable__label-arrow:before {color: black;}#sk-container-id-4 div.sk-toggleable__content {max-height: 0;max-width: 0;overflow: hidden;text-align: left;background-color: #f0f8ff;}#sk-container-id-4 div.sk-toggleable__content pre {margin: 0.2em;color: black;border-radius: 0.25em;background-color: #f0f8ff;}#sk-container-id-4 input.sk-toggleable__control:checked~div.sk-toggleable__content {max-height: 200px;max-width: 100%;overflow: auto;}#sk-container-id-4 input.sk-toggleable__control:checked~label.sk-toggleable__label-arrow:before {content: \"▾\";}#sk-container-id-4 div.sk-estimator input.sk-toggleable__control:checked~label.sk-toggleable__label {background-color: #d4ebff;}#sk-container-id-4 div.sk-label input.sk-toggleable__control:checked~label.sk-toggleable__label {background-color: #d4ebff;}#sk-container-id-4 input.sk-hidden--visually {border: 0;clip: rect(1px 1px 1px 1px);clip: rect(1px, 1px, 1px, 1px);height: 1px;margin: -1px;overflow: hidden;padding: 0;position: absolute;width: 1px;}#sk-container-id-4 div.sk-estimator {font-family: monospace;background-color: #f0f8ff;border: 1px dotted black;border-radius: 0.25em;box-sizing: border-box;margin-bottom: 0.5em;}#sk-container-id-4 div.sk-estimator:hover {background-color: #d4ebff;}#sk-container-id-4 div.sk-parallel-item::after {content: \"\";width: 100%;border-bottom: 1px solid gray;flex-grow: 1;}#sk-container-id-4 div.sk-label:hover label.sk-toggleable__label {background-color: #d4ebff;}#sk-container-id-4 div.sk-serial::before {content: \"\";position: absolute;border-left: 1px solid gray;box-sizing: border-box;top: 0;bottom: 0;left: 50%;z-index: 0;}#sk-container-id-4 div.sk-serial {display: flex;flex-direction: column;align-items: center;background-color: white;padding-right: 0.2em;padding-left: 0.2em;position: relative;}#sk-container-id-4 div.sk-item {position: relative;z-index: 1;}#sk-container-id-4 div.sk-parallel {display: flex;align-items: stretch;justify-content: center;background-color: white;position: relative;}#sk-container-id-4 div.sk-item::before, #sk-container-id-4 div.sk-parallel-item::before {content: \"\";position: absolute;border-left: 1px solid gray;box-sizing: border-box;top: 0;bottom: 0;left: 50%;z-index: -1;}#sk-container-id-4 div.sk-parallel-item {display: flex;flex-direction: column;z-index: 1;position: relative;background-color: white;}#sk-container-id-4 div.sk-parallel-item:first-child::after {align-self: flex-end;width: 50%;}#sk-container-id-4 div.sk-parallel-item:last-child::after {align-self: flex-start;width: 50%;}#sk-container-id-4 div.sk-parallel-item:only-child::after {width: 0;}#sk-container-id-4 div.sk-dashed-wrapped {border: 1px dashed gray;margin: 0 0.4em 0.5em 0.4em;box-sizing: border-box;padding-bottom: 0.4em;background-color: white;}#sk-container-id-4 div.sk-label label {font-family: monospace;font-weight: bold;display: inline-block;line-height: 1.2em;}#sk-container-id-4 div.sk-label-container {text-align: center;}#sk-container-id-4 div.sk-container {/* jupyter's `normalize.less` sets `[hidden] { display: none; }` but bootstrap.min.css set `[hidden] { display: none !important; }` so we also need the `!important` here to be able to override the default hidden behavior on the sphinx rendered scikit-learn.org. See: https://github.com/scikit-learn/scikit-learn/issues/21755 */display: inline-block !important;position: relative;}#sk-container-id-4 div.sk-text-repr-fallback {display: none;}</style><div id=\"sk-container-id-4\" class=\"sk-top-container\"><div class=\"sk-text-repr-fallback\"><pre>XGBRegressor(base_score=None, booster=None, callbacks=None,\n",
       "             colsample_bylevel=None, colsample_bynode=None,\n",
       "             colsample_bytree=None, early_stopping_rounds=None,\n",
       "             enable_categorical=False, eval_metric=None, feature_types=None,\n",
       "             gamma=None, gpu_id=None, grow_policy=None, importance_type=None,\n",
       "             interaction_constraints=None, learning_rate=None, max_bin=None,\n",
       "             max_cat_threshold=None, max_cat_to_onehot=None,\n",
       "             max_delta_step=None, max_depth=None, max_leaves=None,\n",
       "             min_child_weight=None, missing=nan, monotone_constraints=None,\n",
       "             n_estimators=100, n_jobs=None, num_parallel_tree=None,\n",
       "             predictor=None, random_state=None, ...)</pre><b>In a Jupyter environment, please rerun this cell to show the HTML representation or trust the notebook. <br />On GitHub, the HTML representation is unable to render, please try loading this page with nbviewer.org.</b></div><div class=\"sk-container\" hidden><div class=\"sk-item\"><div class=\"sk-estimator sk-toggleable\"><input class=\"sk-toggleable__control sk-hidden--visually\" id=\"sk-estimator-id-4\" type=\"checkbox\" checked><label for=\"sk-estimator-id-4\" class=\"sk-toggleable__label sk-toggleable__label-arrow\">XGBRegressor</label><div class=\"sk-toggleable__content\"><pre>XGBRegressor(base_score=None, booster=None, callbacks=None,\n",
       "             colsample_bylevel=None, colsample_bynode=None,\n",
       "             colsample_bytree=None, early_stopping_rounds=None,\n",
       "             enable_categorical=False, eval_metric=None, feature_types=None,\n",
       "             gamma=None, gpu_id=None, grow_policy=None, importance_type=None,\n",
       "             interaction_constraints=None, learning_rate=None, max_bin=None,\n",
       "             max_cat_threshold=None, max_cat_to_onehot=None,\n",
       "             max_delta_step=None, max_depth=None, max_leaves=None,\n",
       "             min_child_weight=None, missing=nan, monotone_constraints=None,\n",
       "             n_estimators=100, n_jobs=None, num_parallel_tree=None,\n",
       "             predictor=None, random_state=None, ...)</pre></div></div></div></div></div>"
      ],
      "text/plain": [
       "XGBRegressor(base_score=None, booster=None, callbacks=None,\n",
       "             colsample_bylevel=None, colsample_bynode=None,\n",
       "             colsample_bytree=None, early_stopping_rounds=None,\n",
       "             enable_categorical=False, eval_metric=None, feature_types=None,\n",
       "             gamma=None, gpu_id=None, grow_policy=None, importance_type=None,\n",
       "             interaction_constraints=None, learning_rate=None, max_bin=None,\n",
       "             max_cat_threshold=None, max_cat_to_onehot=None,\n",
       "             max_delta_step=None, max_depth=None, max_leaves=None,\n",
       "             min_child_weight=None, missing=nan, monotone_constraints=None,\n",
       "             n_estimators=100, n_jobs=None, num_parallel_tree=None,\n",
       "             predictor=None, random_state=None, ...)"
      ]
     },
     "execution_count": 77,
     "metadata": {},
     "output_type": "execute_result"
    }
   ],
   "source": [
    "# Using CatBoost Encoded Dataset as usual\n",
    "# Because I don't want to repeat the same process as RandomForestRegressor\n",
    "# concerning that it may take a long time, I will just presume n_estimators=11 as before.\n",
    "\n",
    "# Modeling...\n",
    "xgb_model = xgb.XGBRegressor(n_estimators=100)\n",
    "xgb_model.fit(X1_train_encoded, y1_train)"
   ]
  },
  {
   "cell_type": "code",
   "execution_count": 78,
   "metadata": {
    "scrolled": true
   },
   "outputs": [
    {
     "name": "stdout",
     "output_type": "stream",
     "text": [
      "XGBoost RMSE: 12949926.453601863\n",
      "XGBoost MAE: 78487.1238266469\n"
     ]
    }
   ],
   "source": [
    "# Cross-Validation\n",
    "X1_test_encoded_float = X1_test_encoded.astype(float)\n",
    "xgb_preds = xgb_model.predict(X1_test_encoded_float)\n",
    "rmse5 = np.sqrt( mean_squared_error(y1_test, xgb_preds) )\n",
    "print(f'XGBoost RMSE: {rmse5}')\n",
    "mae5 = mean_absolute_error(y1_test, xgb_preds)\n",
    "print(f'XGBoost MAE: {mae5}')"
   ]
  },
  {
   "cell_type": "code",
   "execution_count": 79,
   "metadata": {},
   "outputs": [
    {
     "data": {
      "text/plain": [
       "[('paint_color', 0.5630457),\n",
       " ('condition', 0.24378559),\n",
       " ('year', 0.09990818),\n",
       " ('transmission', 0.06337914),\n",
       " ('cylinders', 0.014049538),\n",
       " ('odometer', 0.0061654667),\n",
       " ('size', 0.005171855),\n",
       " ('manufacturer', 0.0014015649),\n",
       " ('state', 0.0010325279),\n",
       " ('drive', 0.0004962199),\n",
       " ('region', 0.00045066743),\n",
       " ('model', 0.00044164885),\n",
       " ('fuel', 0.0003728398),\n",
       " ('title_status', 0.00023751886),\n",
       " ('type', 6.146455e-05)]"
      ]
     },
     "execution_count": 79,
     "metadata": {},
     "output_type": "execute_result"
    }
   ],
   "source": [
    "# Feature-Importance\n",
    "feature_importance5_dict = dict(zip(X.columns, xgb_model.feature_importances_))\n",
    "sorted_features5 = sorted(feature_importance5_dict.items(), key=lambda x: x[1], reverse=True)\n",
    "sorted_features5"
   ]
  },
  {
   "cell_type": "code",
   "execution_count": 80,
   "metadata": {},
   "outputs": [],
   "source": [
    "# Interpreting the result:\n",
    "\n",
    "# The XGBoostRegressor also has a significantly decreased MAE \n",
    "# compared to the first three models (CatBoost, Ridge, Lasso)\n",
    "# but its MAE is slightly higher than RandomForestRegressor\n",
    "\n",
    "# Its most impactful features are paint_color, condition, and year."
   ]
  },
  {
   "cell_type": "markdown",
   "metadata": {},
   "source": [
    "### Evaluation\n",
    "\n",
    "With some modeling accomplished, we aim to reflect on what we identify as a high quality model and what we are able to learn from this.  We should review our business objective and explore how well we can provide meaningful insight on drivers of used car prices.  Your goal now is to distill your findings and determine whether the earlier phases need revisitation and adjustment or if you have information of value to bring back to your client."
   ]
  },
  {
   "cell_type": "code",
   "execution_count": 81,
   "metadata": {},
   "outputs": [],
   "source": [
    "# As a review to our business objective,\n",
    "# we need to find what factors would make the car more or less expensive.\n",
    "\n",
    "# Such purpose requires us to measure the feature importance among non-price features to the feature price itself.\n",
    "# I used five different models and extract their feature importance\n",
    "# but I believe the ones with the lowest prediction error to its testing data shall be the most accurate\n",
    "# in its report of feature importance.\n",
    "\n",
    "# As a review, here are the RMSE and MAE results of each of the five models:"
   ]
  },
  {
   "cell_type": "markdown",
   "metadata": {},
   "source": [
    "#### Cat Boost Regressor"
   ]
  },
  {
   "cell_type": "code",
   "execution_count": 82,
   "metadata": {},
   "outputs": [
    {
     "name": "stdout",
     "output_type": "stream",
     "text": [
      "Cat Boost Regressor RMSE: 12952574.11229261\n",
      "Cat Boost Regressor MAE: 110839.4799071168\n"
     ]
    }
   ],
   "source": [
    "print(f'Cat Boost Regressor RMSE: {rmse1}')\n",
    "print(f'Cat Boost Regressor MAE: {mae1}')"
   ]
  },
  {
   "cell_type": "markdown",
   "metadata": {},
   "source": [
    "#### Ridge Regressor"
   ]
  },
  {
   "cell_type": "code",
   "execution_count": 83,
   "metadata": {},
   "outputs": [
    {
     "name": "stdout",
     "output_type": "stream",
     "text": [
      "Ridge Regressor RMSE: 12949314.742714988\n",
      "Ridge Regressor MAE: 132233.37016417948\n"
     ]
    }
   ],
   "source": [
    "print(f'Ridge Regressor RMSE: {rmse2}')\n",
    "print(f'Ridge Regressor MAE: {mae2}')"
   ]
  },
  {
   "cell_type": "markdown",
   "metadata": {},
   "source": [
    "#### Lasso Regressor"
   ]
  },
  {
   "cell_type": "code",
   "execution_count": 84,
   "metadata": {},
   "outputs": [
    {
     "name": "stdout",
     "output_type": "stream",
     "text": [
      "Lasso Regressor RMSE: 12949314.742715005\n",
      "Lasso Regressor MAE: 132233.37015878098\n"
     ]
    }
   ],
   "source": [
    "print(f'Lasso Regressor RMSE: {rmse3}')\n",
    "print(f'Lasso Regressor MAE: {mae3}')"
   ]
  },
  {
   "cell_type": "markdown",
   "metadata": {},
   "source": [
    "#### Random Forest Regressor"
   ]
  },
  {
   "cell_type": "code",
   "execution_count": 85,
   "metadata": {},
   "outputs": [
    {
     "name": "stdout",
     "output_type": "stream",
     "text": [
      "Random Forest Regressor RMSE: 12949530.86026673\n",
      "Random Forest Regressor MAE: 75679.11804254125\n"
     ]
    }
   ],
   "source": [
    "print(f'Random Forest Regressor RMSE: {rmse4}')\n",
    "print(f'Random Forest Regressor MAE: {mae4}')"
   ]
  },
  {
   "cell_type": "markdown",
   "metadata": {},
   "source": [
    "#### XGBoost Regressor"
   ]
  },
  {
   "cell_type": "code",
   "execution_count": 86,
   "metadata": {},
   "outputs": [
    {
     "name": "stdout",
     "output_type": "stream",
     "text": [
      "XGBoost Regressor RMSE: 12949926.453601863\n",
      "XGBoost Regressor MAE: 78487.1238266469\n"
     ]
    }
   ],
   "source": [
    "print(f'XGBoost Regressor RMSE: {rmse5}')\n",
    "print(f'XGBoost Regressor MAE: {mae5}')"
   ]
  },
  {
   "cell_type": "markdown",
   "metadata": {},
   "source": [
    "Among all five models, we'll notice that their RMSES are similar to each other and thus, we won't get much for comparing them."
   ]
  },
  {
   "cell_type": "markdown",
   "metadata": {},
   "source": [
    "On the other hand, the MAES can be compared. We will see that Random Forest & XGBoost Regressors have significantly lower MAES than Cat Boost, Ridge, and Lasso Regressors. The Random Forest Regressor has a slightly lower MAE than the XGBoost Regressor so we'll have the Random Forest Regressor be the winner of having the lowest prediction error and thus potentially being the most accurate/best models out of the five."
   ]
  },
  {
   "cell_type": "markdown",
   "metadata": {},
   "source": [
    "#### Random Forest Regressor (Best Model)"
   ]
  },
  {
   "cell_type": "code",
   "execution_count": 87,
   "metadata": {},
   "outputs": [
    {
     "data": {
      "text/plain": [
       "[('paint_color', 0.653616460266444),\n",
       " ('condition', 0.1429206636887926),\n",
       " ('year', 0.14208097065814515),\n",
       " ('transmission', 0.027670388424446628),\n",
       " ('size', 0.02387666371483006),\n",
       " ('title_status', 0.007128941406713737),\n",
       " ('region', 0.0009523281577751948),\n",
       " ('state', 0.0007072111812608134),\n",
       " ('drive', 0.00045955348955468116),\n",
       " ('cylinders', 0.00036785731012982983),\n",
       " ('odometer', 0.00016592885163801318),\n",
       " ('model', 4.092944784597258e-05),\n",
       " ('fuel', 1.1805519953067311e-05),\n",
       " ('manufacturer', 1.6512326022919492e-07),\n",
       " ('type', 1.327592100439022e-07)]"
      ]
     },
     "execution_count": 87,
     "metadata": {},
     "output_type": "execute_result"
    }
   ],
   "source": [
    "# We will now review the feature importance of Random Forest Regressor\n",
    "sorted_features4"
   ]
  },
  {
   "cell_type": "markdown",
   "metadata": {},
   "source": [
    "It tells us that the paint_color, year, and condition are the three major features that impact the feature price,\n",
    "i.e. the price of the car."
   ]
  },
  {
   "cell_type": "code",
   "execution_count": 88,
   "metadata": {},
   "outputs": [
    {
     "data": {
      "text/plain": [
       "([0, 1, 2, 3, 4, 5, 6, 7, 8, 9, 10, 11],\n",
       " [Text(0, 0, 'white'),\n",
       "  Text(1, 0, 'blue'),\n",
       "  Text(2, 0, 'red'),\n",
       "  Text(3, 0, 'black'),\n",
       "  Text(4, 0, 'silver'),\n",
       "  Text(5, 0, 'grey'),\n",
       "  Text(6, 0, 'brown'),\n",
       "  Text(7, 0, 'yellow'),\n",
       "  Text(8, 0, 'orange'),\n",
       "  Text(9, 0, 'green'),\n",
       "  Text(10, 0, 'custom'),\n",
       "  Text(11, 0, 'purple')])"
      ]
     },
     "execution_count": 88,
     "metadata": {},
     "output_type": "execute_result"
    },
    {
     "data": {
      "image/png": "[encoded data removed]",
      "text/plain": [
       "<Figure size 640x480 with 1 Axes>"
      ]
     },
     "metadata": {},
     "output_type": "display_data"
    }
   ],
   "source": [
    "# However, it doesn't tell us of whether these three features increase or decrease the price of the car. \n",
    "# Thus, to do that, let's provide some scatterplots and heatmaps of these three features to the price of the car.\n",
    "\n",
    "# Paint Color\n",
    "plt.scatter(imputed_df['paint_color'], imputed_df['price'])\n",
    "plt.xlabel('Paint Color')\n",
    "plt.ylabel('Price')\n",
    "plt.title('Scatterplot of Paint Color vs. Price')\n",
    "plt.xticks(rotation=45)"
   ]
  },
  {
   "cell_type": "markdown",
   "metadata": {},
   "source": [
    "The silver and green cars have the possibility to be expensive cars. The white cars also has a possibility of being expensive but not as expensive as silver and green. The black cars has a possibility of lower price than white but more expensive than the rest of the unspecified colored cars."
   ]
  },
  {
   "cell_type": "code",
   "execution_count": 89,
   "metadata": {},
   "outputs": [],
   "source": [
    "# Let's check the density using seaborn heatmap\n",
    "import seaborn as sns"
   ]
  },
  {
   "cell_type": "code",
   "execution_count": 90,
   "metadata": {},
   "outputs": [
    {
     "data": {
      "text/plain": [
       "(array([ 0.5,  1.5,  2.5,  3.5,  4.5,  5.5,  6.5,  7.5,  8.5,  9.5, 10.5,\n",
       "        11.5]),\n",
       " [Text(0.5, 0, 'black'),\n",
       "  Text(1.5, 0, 'blue'),\n",
       "  Text(2.5, 0, 'brown'),\n",
       "  Text(3.5, 0, 'custom'),\n",
       "  Text(4.5, 0, 'green'),\n",
       "  Text(5.5, 0, 'grey'),\n",
       "  Text(6.5, 0, 'orange'),\n",
       "  Text(7.5, 0, 'purple'),\n",
       "  Text(8.5, 0, 'red'),\n",
       "  Text(9.5, 0, 'silver'),\n",
       "  Text(10.5, 0, 'white'),\n",
       "  Text(11.5, 0, 'yellow')])"
      ]
     },
     "execution_count": 90,
     "metadata": {},
     "output_type": "execute_result"
    },
    {
     "data": {
      "image/png": "[encoded data removed]",
      "text/plain": [
       "<Figure size 2000x1000 with 2 Axes>"
      ]
     },
     "metadata": {},
     "output_type": "display_data"
    }
   ],
   "source": [
    "# Because there are many different prices, let's combine the various prices into 4 big price ranges\n",
    "# for the sake of a readable heatmap.\n",
    "price_bins = np.linspace(imputed_df['price'].min(), imputed_df['price'].max(), num=5)\n",
    "imputed_df['price_bin'] = pd.cut(imputed_df['price'], bins=price_bins, \n",
    "                                 labels=['Low', 'Medium-Low', 'Medium-High', 'High'])\n",
    "\n",
    "plt.figure(figsize=(20,10))\n",
    "sns.heatmap(pd.crosstab(imputed_df.price_bin,imputed_df.paint_color,normalize=True),annot=True,cmap='RdYlGn')\\\n",
    "   .invert_yaxis()\n",
    "plt.xticks(rotation=45)"
   ]
  },
  {
   "cell_type": "code",
   "execution_count": 91,
   "metadata": {},
   "outputs": [],
   "source": [
    "# The heatmap shows the possibility of having an expensive car based on color is highly low."
   ]
  },
  {
   "cell_type": "code",
   "execution_count": 92,
   "metadata": {},
   "outputs": [
    {
     "data": {
      "text/plain": [
       "(array([1880., 1900., 1920., 1940., 1960., 1980., 2000., 2020., 2040.]),\n",
       " [Text(1880.0, 0, '1880'),\n",
       "  Text(1900.0, 0, '1900'),\n",
       "  Text(1920.0, 0, '1920'),\n",
       "  Text(1940.0, 0, '1940'),\n",
       "  Text(1960.0, 0, '1960'),\n",
       "  Text(1980.0, 0, '1980'),\n",
       "  Text(2000.0, 0, '2000'),\n",
       "  Text(2020.0, 0, '2020'),\n",
       "  Text(2040.0, 0, '2040')])"
      ]
     },
     "execution_count": 92,
     "metadata": {},
     "output_type": "execute_result"
    },
    {
     "data": {
      "image/png": "[encoded data removed]",
      "text/plain": [
       "<Figure size 640x480 with 1 Axes>"
      ]
     },
     "metadata": {},
     "output_type": "display_data"
    }
   ],
   "source": [
    "# Year\n",
    "plt.scatter(imputed_df['year'], imputed_df['price'])\n",
    "plt.xlabel('Year')\n",
    "plt.ylabel('Price')\n",
    "plt.title('Scatterplot of Year vs. Price')\n",
    "plt.xticks(rotation=45)"
   ]
  },
  {
   "cell_type": "code",
   "execution_count": 93,
   "metadata": {},
   "outputs": [
    {
     "data": {
      "text/plain": [
       "(array([0.5, 1.5, 2.5, 3.5]),\n",
       " [Text(0.5, 0, 'Earliest'),\n",
       "  Text(1.5, 0, 'Mid-Early'),\n",
       "  Text(2.5, 0, 'Mid-Recent'),\n",
       "  Text(3.5, 0, 'Recent')])"
      ]
     },
     "execution_count": 93,
     "metadata": {},
     "output_type": "execute_result"
    },
    {
     "data": {
      "image/png": "[encoded data removed]",
      "text/plain": [
       "<Figure size 2000x1000 with 2 Axes>"
      ]
     },
     "metadata": {},
     "output_type": "display_data"
    }
   ],
   "source": [
    "# The scatterplot shows a positive correlation between Year vs. Price.\n",
    "\n",
    "# Since there are many different years, let's combine them into 4 big year ranges.\n",
    "year_bins = np.linspace(imputed_df['year'].min(), imputed_df['year'].max(), num=5)\n",
    "imputed_df['year_bin'] = pd.cut(imputed_df['year'], bins=year_bins, \n",
    "                                 labels=['Earliest', 'Mid-Early', 'Mid-Recent', 'Recent'])\n",
    "plt.figure(figsize=(20,10))\n",
    "sns.heatmap(pd.crosstab(imputed_df.price_bin,imputed_df.year_bin,normalize=True),annot=True,cmap='RdYlGn')\\\n",
    "   .invert_yaxis()\n",
    "plt.xticks(rotation=45)"
   ]
  },
  {
   "cell_type": "markdown",
   "metadata": {},
   "source": [
    "Even though the majority of cars are on the Low Price Range, the Medium-Low Price Range becomes possible for cars not on the Earliest Year Range and High Price Range only becomes possible for Recent Year Range cars."
   ]
  },
  {
   "cell_type": "code",
   "execution_count": 94,
   "metadata": {},
   "outputs": [
    {
     "data": {
      "text/plain": [
       "([0, 1, 2, 3, 4, 5],\n",
       " [Text(0, 0, 'good'),\n",
       "  Text(1, 0, 'excellent'),\n",
       "  Text(2, 0, 'fair'),\n",
       "  Text(3, 0, 'like new'),\n",
       "  Text(4, 0, 'new'),\n",
       "  Text(5, 0, 'salvage')])"
      ]
     },
     "execution_count": 94,
     "metadata": {},
     "output_type": "execute_result"
    },
    {
     "data": {
      "image/png": "[encoded data removed]",
      "text/plain": [
       "<Figure size 640x480 with 1 Axes>"
      ]
     },
     "metadata": {},
     "output_type": "display_data"
    }
   ],
   "source": [
    "# Condition\n",
    "plt.scatter(imputed_df['condition'], imputed_df['price'])\n",
    "plt.xlabel('Condition')\n",
    "plt.ylabel('Price')\n",
    "plt.title('Scatterplot of Condition vs. Price')\n",
    "plt.xticks(rotation=45)"
   ]
  },
  {
   "cell_type": "markdown",
   "metadata": {},
   "source": [
    "Cars in fair, good, or excellent conditions can be possibly expensive. It's not surprising that all cars in salvage condition are cheap but it's rather surprising that cars in like-new or new conditions cannot possibly be that expensive."
   ]
  },
  {
   "cell_type": "code",
   "execution_count": 95,
   "metadata": {},
   "outputs": [
    {
     "data": {
      "text/plain": [
       "(array([0.5, 1.5, 2.5, 3.5, 4.5, 5.5]),\n",
       " [Text(0.5, 0, 'excellent'),\n",
       "  Text(1.5, 0, 'fair'),\n",
       "  Text(2.5, 0, 'good'),\n",
       "  Text(3.5, 0, 'like new'),\n",
       "  Text(4.5, 0, 'new'),\n",
       "  Text(5.5, 0, 'salvage')])"
      ]
     },
     "execution_count": 95,
     "metadata": {},
     "output_type": "execute_result"
    },
    {
     "data": {
      "image/png": "[encoded data removed]",
      "text/plain": [
       "<Figure size 2000x1000 with 2 Axes>"
      ]
     },
     "metadata": {},
     "output_type": "display_data"
    }
   ],
   "source": [
    "# Heatmap\n",
    "plt.figure(figsize=(20,10))\n",
    "sns.heatmap(pd.crosstab(imputed_df.price_bin,imputed_df.condition,normalize=True),annot=True,cmap='RdYlGn')\\\n",
    "   .invert_yaxis()\n",
    "plt.xticks(rotation=45)"
   ]
  },
  {
   "cell_type": "markdown",
   "metadata": {},
   "source": [
    "Doesn't show new info except that cars in excellent or good conditions are significantly common in the given dataset."
   ]
  },
  {
   "cell_type": "markdown",
   "metadata": {},
   "source": [
    "#### Business Issues\n",
    "Keep in mind that before the models were used, many categorical NaN values were replaced by frequent values of its respective column and the majority of prices that were initially 0 were changed into median prices. Thus, it can be said that the same-value presence in the modified car dataset is significant enough to make the dataset inaccurate, bias, and/or less credible."
   ]
  },
  {
   "cell_type": "markdown",
   "metadata": {},
   "source": [
    "There may be other ways to fix these very noticeable issues but unfortunately, I no longer have the time to find any. Thus, we are moving on to the Deployment with the Random Forest Regressor remaining as the best model."
   ]
  },
  {
   "cell_type": "markdown",
   "metadata": {},
   "source": [
    "### Deployment\n",
    "\n",
    "Now that we've settled on our models and findings, it is time to deliver the information to the client.  You should organize your work as a basic report that details your primary findings.  Keep in mind that your audience is a group of used car dealers interested in fine tuning their inventory."
   ]
  },
  {
   "cell_type": "markdown",
   "metadata": {},
   "source": [
    "#### How will the model work when deployed"
   ]
  },
  {
   "cell_type": "markdown",
   "metadata": {},
   "source": [
    "    To start off, this model can be deployed as a form of the car dealers' inventory that they can input car datasets  of their own with similar structures as my given one, i.e. each row represents an individual car and there can be  numerous features about the car in which one of the features has to be the price of the car in order for this model to work."
   ]
  },
  {
   "cell_type": "markdown",
   "metadata": {},
   "source": [
    "    It is highly recommended that the dataset has no missing values nor values that won't make any sense in a real-life scenario. Otherwise, if the model detect any missing/nonsensical values, then the model will automatically fill    them in with frequent values for categorical features or with a median value for numeric features using            SimpleImputer."
   ]
  },
  {
   "cell_type": "markdown",
   "metadata": {},
   "source": [
    "    The model will use CatBoost Encoder to encode the dataset and before using its best model Random Forest Regressor, it will ask the car dealer to choose a number from 2 to 12 telling the dealer that it represents a range from fast but probably inaccurate results to more slow but more accurate results. After the car dealer chose the number, that number will be input into the hyperparameter n_estimators of the Random Forest Regressor."
   ]
  },
  {
   "cell_type": "markdown",
   "metadata": {},
   "source": [
    "    Once these three features are found, it will then create a scatterplot and a heatmap for each feature for the car  dealer to see. It will interpret what the scatterplot and the heatmap meant for that specific feature relating to  price. Also, to avoid the heatmap from being overwhelmed with numerous different numeric values, the model will    automatically use np.linspace and pd.cut to create a new column with four categorical bins covering four equal     ranges of all different numeric values to have these four be the labels for the heatmap instead of the overwhelming different numeric values."
   ]
  },
  {
   "cell_type": "markdown",
   "metadata": {},
   "source": [
    "#### My findings interpreted to clients"
   ]
  },
  {
   "cell_type": "markdown",
   "metadata": {},
   "source": [
    "    Before delivering my findings to the car dealers, I will first let them know that there were many                  missing/nonsensical values in my dataset which are replaced by the most frequent or median values of its respective feature so my findings may be bias to that regard."
   ]
  },
  {
   "cell_type": "markdown",
   "metadata": {},
   "source": [
    "    According to my model, the paint color of the car should be the first factor they should keep in mind when it comes to the price of the car. I will specifically tell them that there's a slim chance that consumers highly value      green, silver, and white cars with black cars being the secondary best. The rest of the colors seemed to be          completely lowly valued according to its price."
   ]
  },
  {
   "cell_type": "markdown",
   "metadata": {},
   "source": [
    "    Next up would be the year that the car was manufactured. It would seem that the more recent the car has been       manufactured, then the more chances the car will have to be highly valued or have a high price. Thus, if you want  used cars that are highly valued, look for less old-fashioned and more recent trendy ones."
   ]
  },
  {
   "cell_type": "markdown",
   "metadata": {},
   "source": [
    "    The last is the condition of the car. I cannot explain to them why cars that are in like-new or new conditions are not highly valued but I will sure tell them to also avoid ones in salvage condition, i.e. used cars that are no    longer roadworthy and cannot be repaired. Used cars that are either in fair, good, or excellent conditions however are what consumers highly valued. Thus, make sure to look after your used cars if you want your consumers to buy    them at a high price."
   ]
  }
 ],
 "metadata": {
  "kernelspec": {
   "display_name": "Python 3 (ipykernel)",
   "language": "python",
   "name": "python3"
  },
  "language_info": {
   "codemirror_mode": {
    "name": "ipython",
    "version": 3
   },
   "file_extension": ".py",
   "mimetype": "text/x-python",
   "name": "python",
   "nbconvert_exporter": "python",
   "pygments_lexer": "ipython3",
   "version": "3.10.9"
  },
  "widgets": {
   "application/vnd.jupyter.widget-state+json": {
    "state": {},
    "version_major": 2,
    "version_minor": 0
   }
  }
 },
 "nbformat": 4,
 "nbformat_minor": 4
}
